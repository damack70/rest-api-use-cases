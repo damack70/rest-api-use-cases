{
 "cells": [
  {
   "cell_type": "markdown",
   "metadata": {},
   "source": [
    "# SAS Job Execution - job definition functions\n",
    "Job definitions are jobs that you can execute. You first create a job definition before executing it.  \n",
    "The funtions in this use case run CRUD (**c**reate, **r**ead, **u**pdate, **d**elete) operations for job definitions."
   ]
  },
  {
   "cell_type": "markdown",
   "metadata": {},
   "source": [
    "## Authentication"
   ]
  },
  {
   "cell_type": "code",
   "execution_count": null,
   "metadata": {},
   "outputs": [],
   "source": [
    "#############################################\n",
    "########## authentication ###################\n",
    "#############################################\n",
    "\n",
    "### with source(\"./R/authentication/auth_package.R\") you will be able\n",
    "### to load all functions here defined to facilitate other projects\n",
    "### how to use example at the end of this file\n",
    "\n",
    "## Refer to the authentication project\n",
    "\n",
    "#Global variables to assign:\n",
    "source(\"../authentication/get-access-token-r.r\") \n",
    "sasserver  <- \"http://your-server\"\n",
    "client_name <- \"r_client\" ## your client\n",
    "client_secret <- \"r_secret\" ## your password\n",
    "username <- \"viya_user\"\n",
    "password <- \"viya_password\"\n",
    "\n",
    "tokenDetailed <- authenticate(host = sasserver,\n",
    "                              username = username,\n",
    "                              password = password,\n",
    "                              client_name = client_name,\n",
    "                              client_secret = client_secret)\n",
    "\n",
    "token <- tokenDetailed$access_token\n",
    "token"
   ]
  },
  {
   "cell_type": "markdown",
   "metadata": {},
   "source": [
    "## Import modules, variable assignment"
   ]
  },
  {
   "cell_type": "code",
   "execution_count": null,
   "metadata": {},
   "outputs": [],
   "source": [
    "library(\"httr\")\n",
    "library(\"jsonlite\")\n",
    "\n",
    "# Variables to assign (uncomment and assign if you did not do so in the authenticaiton step above)\n",
    "# sasserver  <- \"http://your-server\"\n",
    "# client_name <- \"r_client\" ## create your client\n",
    "# client_secret <- \"r_secret\" ## create your password\n",
    "# username <- \"viya_user\"\n",
    "# password <- \"viya_password\""
   ]
  },
  {
   "cell_type": "markdown",
   "metadata": {},
   "source": [
    "## Create a *list all jobs* function"
   ]
  },
  {
   "cell_type": "code",
   "execution_count": null,
   "metadata": {},
   "outputs": [],
   "source": [
    "list_job_definitions <- function(host, access_token, \n",
    "                                 start = 0,\n",
    "                                 limit = 10,\n",
    "                                 filter = NULL,\n",
    "                                 verbose = FALSE) {\n",
    "  \n",
    "  url <- parse_url(host)\n",
    "  url$path <- \"/jobDefinitions/definitions\"\n",
    "  url$query <- list(\n",
    "    start = start,\n",
    "    limit = limit,\n",
    "    filter = filter\n",
    "  )\n",
    "    \n",
    "  response <- GET(\n",
    "    url = build_url(url),\n",
    "    add_headers(\n",
    "      \"accept\"=\"application/json\",\n",
    "      \"authorization\" = paste(\"Bearer\", access_token)\n",
    "    ),\n",
    "    \n",
    "    if(verbose) verbose()\n",
    "  )\n",
    "  \n",
    "  stop_for_status(response)\n",
    "  jobsList <- fromJSON(content(response, as = \"text\"))\n",
    "  return(jobsList$items)\n",
    "}"
   ]
  },
  {
   "cell_type": "markdown",
   "metadata": {},
   "source": [
    "## Run the *list all jobs* function"
   ]
  },
  {
   "cell_type": "code",
   "execution_count": null,
   "metadata": {},
   "outputs": [],
   "source": [
    "### get a list  of jobs\n",
    "job_definitions <- list_job_definitions(sasserver, \n",
    "                                        token,\n",
    "                                        filter = \"eq(createdBy, 'sasdemo')\"\n",
    "                                          )\n",
    "job_definitions\n",
    "print(job_definitions)"
   ]
  },
  {
   "cell_type": "markdown",
   "metadata": {},
   "source": [
    "## Create a job definition with sample code funciton"
   ]
  },
  {
   "cell_type": "code",
   "execution_count": null,
   "metadata": {},
   "outputs": [],
   "source": [
    "### Creating a job definition\n",
    "\n",
    "create_job_definition <- function(host, \n",
    "                                  access_token,\n",
    "                                  json_payload,\n",
    "                                  verbose = FALSE\n",
    ") {\n",
    "  \n",
    "  url <- parse_url(host)\n",
    "  url$path <- paste0(\"/jobDefinitions/definitions\")\n",
    "  \n",
    "  response <- POST(\n",
    "    url = build_url(url),\n",
    "    add_headers(\n",
    "      \"accept\"=\"application/json\",\n",
    "      \"authorization\" = paste(\"Bearer\", access_token),\n",
    "      \"Content-Type\" = \"application/vnd.sas.job.definition+json\",\n",
    "      \"Accept\" = \"application/vnd.sas.job.definition+json\"\n",
    "    ),\n",
    "    body = json_payload,\n",
    "    encode = 'json',\n",
    "    if(verbose) verbose()\n",
    "  )\n",
    "  \n",
    "  stop_for_status(response)\n",
    "  jobDef <- fromJSON(content(response, as = \"text\"))\n",
    "  jobDef$etag <- cache_info(response)$etag\n",
    "  return(jobDef)\n",
    "}\n",
    "\n",
    "\n",
    "## creating a sample code to add to the job definition\n",
    "\n",
    "payload <- toJSON(\n",
    "list(\n",
    "      version = 1,\n",
    "      name = \"Simple proc print\",\n",
    "      type = \"Compute\",\n",
    "      paramenters = list(\n",
    "        version = 1,\n",
    "        name = \"_contextName\",\n",
    "        defaultValue = 'SAS Job Execution compute context',\n",
    "        type = \"CHARACTER\",\n",
    "        label = \"Context Name\",\n",
    "        required = FALSE\n",
    "      ),\n",
    "      code = \"ods html style=HTMLBlue;\\nproc print data=sashelp.class; run; quit;\\nods html close;\"\n",
    "    \n",
    "  ),\n",
    "  auto_unbox = TRUE, pretty =T  ### removes [] where is not needed, must be used\n",
    ")\n",
    "\n",
    "payload"
   ]
  },
  {
   "cell_type": "markdown",
   "metadata": {},
   "source": [
    "## Run the job definition with sample code funciton"
   ]
  },
  {
   "cell_type": "code",
   "execution_count": null,
   "metadata": {},
   "outputs": [],
   "source": [
    "## creating the job definition\n",
    "def1 <- create_job_definition(sasserver, \n",
    "                      token,\n",
    "                      json_payload = payload\n",
    ")\n",
    "\n",
    "def1"
   ]
  },
  {
   "cell_type": "markdown",
   "metadata": {},
   "source": [
    "## Create a *get the job definition* function for the job just created"
   ]
  },
  {
   "cell_type": "code",
   "execution_count": null,
   "metadata": {},
   "outputs": [],
   "source": [
    "### get_job_definition\n",
    "### do same as above with little more detail\n",
    "### of a single specific job\n",
    "\n",
    "get_job_definition <- function(host, \n",
    "                               access_token,\n",
    "                               definitionId,\n",
    "                               verbose = FALSE) {\n",
    "  \n",
    "  url <- parse_url(host)\n",
    "  url$path <- paste0(\"/jobDefinitions/definitions/\", definitionId)\n",
    "  \n",
    "  response <- GET(\n",
    "    url = build_url(url),\n",
    "    add_headers(\n",
    "      \"accept\"=\"application/json\",\n",
    "      \"authorization\" = paste(\"Bearer\", access_token)\n",
    "    ),\n",
    "    if(verbose) verbose()\n",
    "  )\n",
    "  \n",
    "  stop_for_status(response)\n",
    "  jobDef <- fromJSON(content(response, as = \"text\"))\n",
    "  jobDef$etag <- cache_info(response)$etag\n",
    "   return(jobDef)\n",
    "}"
   ]
  },
  {
   "cell_type": "markdown",
   "metadata": {},
   "source": [
    "## Run the *get the job definition* function for the job just created"
   ]
  },
  {
   "cell_type": "code",
   "execution_count": null,
   "metadata": {
    "scrolled": true
   },
   "outputs": [],
   "source": [
    "# get the job definition for a specific job\n",
    "jobDef <- get_job_definition(sasserver, \n",
    "                             token,\n",
    "                             def1$id)\n",
    "\n",
    "jobDef"
   ]
  },
  {
   "cell_type": "markdown",
   "metadata": {},
   "source": [
    "## Create an *update job definition* with sample code function"
   ]
  },
  {
   "cell_type": "code",
   "execution_count": null,
   "metadata": {},
   "outputs": [],
   "source": [
    "### Updating a job definition\n",
    "\n",
    "update_job_definition <- function(host, \n",
    "                                access_token,\n",
    "                                json_payload,\n",
    "                                definitionId,\n",
    "                                etag, ## obatin with get or creating definitions\n",
    "                                verbose = FALSE\n",
    ") {\n",
    "  \n",
    "  url <- parse_url(host)\n",
    "  url$path <- paste0(\"/jobDefinitions/definitions/\", definitionId)\n",
    "  \n",
    "  response <- PUT(\n",
    "    url = build_url(url),\n",
    "    add_headers(\n",
    "      \"accept\"=\"application/json\",\n",
    "      \"authorization\" = paste(\"Bearer\", access_token),\n",
    "      \"Content-Type\" = \"application/vnd.sas.job.definition+json\",\n",
    "      \"Accept\" = \"application/vnd.sas.job.definition+json\",\n",
    "      \"If-Match\" = etag\n",
    "    ),\n",
    "    body = json_payload,\n",
    "    encode = 'json',\n",
    "    if(verbose) verbose()\n",
    "  )\n",
    "  \n",
    "  stop_for_status(response)\n",
    "  jobDef <- fromJSON(content(response, as = \"text\"))\n",
    "  jobDef$etag <- cache_info(response)$etag\n",
    "  return(jobDef)\n",
    "}\n",
    "\n",
    "\n",
    "### payload as above with some changes\n",
    "payload_update <- toJSON(\n",
    "  list(\n",
    "    version = def1$version + 1, ### lets change version\n",
    "    id = def1$id,\n",
    "    name = 'Proc Print From API',\n",
    "    description = \"Show the contents of sashelp.class using PROC PRINT and filtering by AGE.\",\n",
    "    type = \"Compute\",\n",
    "    parameters = list(\n",
    "      list( ## we do double list so the json is created as \"parameters: [{}]\"\n",
    "        version = 1,\n",
    "        name = \"_contextName\", ## required, don't know why\n",
    "        defaultValue = \"SAS Job Execution compute context\",\n",
    "        type = \"CHARACTER\",\n",
    "        label = \"Now it is red\",\n",
    "        required = \"false\"\n",
    "      ),\n",
    "      list( ## added variable to the definition\n",
    "        version = 1,\n",
    "        name = \"AGE\",\n",
    "        defaultValue = \"10\",\n",
    "        type= \"NUMERIC\",\n",
    "        label = \"Lowest age for report\",\n",
    "        required = \"false\")\n",
    "      ),\n",
    "    ### enable filtering by AGE\n",
    "    code = \"ods html style=HTMLBlue;\\nproc print data=sashelp.class; where age > &AGE; run; quit;\\nods html close;\"   \n",
    "  ),\n",
    "  auto_unbox = TRUE, ### removes [] where is not needed, must be used,\n",
    "  pretty = TRUE\n",
    "  )\n",
    "\n",
    "payload_update"
   ]
  },
  {
   "cell_type": "markdown",
   "metadata": {},
   "source": [
    "## Run the *update job definition* with sample code function"
   ]
  },
  {
   "cell_type": "code",
   "execution_count": null,
   "metadata": {},
   "outputs": [],
   "source": [
    "# update the job definition\n",
    "updated_def1 <- update_job_definition(sasserver, \n",
    "                      token,\n",
    "                      json_payload = payload_update,\n",
    "                      definitionId = def1$id,\n",
    "                      etag = def1$etag,\n",
    "                      )\n",
    "saveRDS(updated_def1, \"updated.Rda\") # save job definition id for use in other scripts\n",
    "updated_def1"
   ]
  },
  {
   "cell_type": "markdown",
   "metadata": {},
   "source": [
    "## Create a *delete job definition* function"
   ]
  },
  {
   "cell_type": "code",
   "execution_count": null,
   "metadata": {},
   "outputs": [],
   "source": [
    "delete_job_definition <- function(host, \n",
    "                               access_token,\n",
    "                               definitionId,\n",
    "                               verbose = FALSE) {\n",
    "  \n",
    "  url <- parse_url(host)\n",
    "  url$path <- paste0(\"/jobDefinitions/definitions/\", definitionId)\n",
    "  \n",
    "  response <- DELETE(\n",
    "    url = build_url(url),\n",
    "    add_headers(\n",
    "      \"accept\"=\"application/json\",\n",
    "      \"authorization\" = paste(\"Bearer\", access_token)\n",
    "    ),\n",
    "    if(verbose) verbose()\n",
    "  )\n",
    "  \n",
    "  stop_for_status(response)\n",
    "  \n",
    "  if(response$status_code == 204){\n",
    "    print(paste0(\"The job \", definitionId,\" was successfully deleted.\"))\n",
    "  } else {\n",
    "    print(paste0(\"The job \", definitionId,\" was not deleted.\"))\n",
    "  }\n",
    "  return(response)"
   ]
  },
  {
   "cell_type": "markdown",
   "metadata": {},
   "source": [
    "## Run the *delete job definition* function\n",
    "Do not run if you're continuing with the job exectuion use case."
   ]
  },
  {
   "cell_type": "code",
   "execution_count": null,
   "metadata": {},
   "outputs": [],
   "source": [
    "# apiResponse <- delete_job_definition(sasserver,\n",
    "#                       token,\n",
    "#                       job1$id\n",
    "#                       )\n",
    "#apiResponse"
   ]
  }
 ],
 "metadata": {
  "kernelspec": {
   "display_name": "R",
   "language": "R",
   "name": "ir"
  },
  "language_info": {
   "codemirror_mode": "r",
   "file_extension": ".r",
   "mimetype": "text/x-r-source",
   "name": "R",
   "pygments_lexer": "r",
   "version": "3.6.1"
  }
 },
 "nbformat": 4,
 "nbformat_minor": 5
}
