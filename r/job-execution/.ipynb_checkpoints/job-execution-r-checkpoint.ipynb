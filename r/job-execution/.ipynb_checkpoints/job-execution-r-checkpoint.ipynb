{
 "cells": [
  {
   "cell_type": "markdown",
   "metadata": {},
   "source": [
    "# SAS Job Execution - job execution functions\n",
    "Job definitions are jobs that you can execute. You first create a job definition before executing it.  \n",
    "The funtions in this use case execute jobs based on existing job definitions."
   ]
  },
  {
   "cell_type": "markdown",
   "metadata": {},
   "source": [
    "## Authentication"
   ]
  },
  {
   "cell_type": "code",
   "execution_count": null,
   "metadata": {
    "scrolled": true
   },
   "outputs": [],
   "source": [
    "#############################################\n",
    "########## authentication ###################\n",
    "#############################################\n",
    "\n",
    "### with source(\"./R/authentication/auth_package.R\") you will be able\n",
    "### to load all functions here defined to facilitate other projects\n",
    "### how to use example at the end of this file\n",
    "\n",
    "## Refer to the authentication project\n",
    "\n",
    "#Global variables to assign:\n",
    "source(\"../authentication/get-access-token-r.r\") \n",
    "sasserver  <- \"http://your-server\"\n",
    "client_name <- \"r_client\" ## your client\n",
    "client_secret <- \"r_secret\" ## your password\n",
    "username <- \"viya_user\"\n",
    "password <- \"viya_password\"\n",
    "\n",
    "tokenDetailed <- authenticate(host = sasserver,\n",
    "                              username = username,\n",
    "                              password = password,\n",
    "                              client_name = client_name,\n",
    "                              client_secret = client_secret)\n",
    "\n",
    "token <- tokenDetailed$access_token\n",
    "token"
   ]
  },
  {
   "cell_type": "markdown",
   "metadata": {},
   "source": [
    "## Import modules, variable assignment"
   ]
  },
  {
   "cell_type": "code",
   "execution_count": null,
   "metadata": {},
   "outputs": [],
   "source": [
    "library(\"httr\")\n",
    "library(\"jsonlite\")\n",
    "updated_def1 <- readRDS(\"updated.Rda\")$id # reading the file from job-definition-crud-r to get job id\n",
    "\n",
    "# Variables to assign (uncomment and assign if you did not do so in the authenticaiton step above)\n",
    "# sasserver  <- \"http://your-server\"\n",
    "# client_name <- \"r_client\" ## create your client\n",
    "# client_secret <- \"r_secret\" ## create your password\n",
    "# username <- \"viya_user\"\n",
    "# password <- \"viya_password\""
   ]
  },
  {
   "cell_type": "markdown",
   "metadata": {},
   "source": [
    "## Create *get job list* function"
   ]
  },
  {
   "cell_type": "code",
   "execution_count": null,
   "metadata": {},
   "outputs": [],
   "source": [
    "#############################################\n",
    "######### get job request list ##############\n",
    "#############################################\n",
    "\n",
    "\n",
    "### To execute a job you will need the\n",
    "### `updated_def1` variable created on `job_definition-crud-r.r`\n",
    "\n",
    "library(\"httr\")\n",
    "library(\"jsonlite\")\n",
    "\n",
    "get_jobRequest_list <- function(host, \n",
    "                                access_token, \n",
    "                                start = 0,\n",
    "                                limit = 10,\n",
    "                                filter = NULL,\n",
    "                                verbose = FALSE) {\n",
    "  \n",
    "  url <- parse_url(host)\n",
    "  url$path <- \"/jobExecution/jobs\"\n",
    "  url$query <- list(\n",
    "    start = start,\n",
    "    limit = limit,\n",
    "    filter = filter\n",
    "  )\n",
    "  \n",
    "  response <- GET(\n",
    "    url = build_url(url),\n",
    "    add_headers(\n",
    "      \"accept\"=\"application/vnd.sas.api+json\",\n",
    "      \"authorization\" = paste(\"Bearer\", access_token)\n",
    "    ),\n",
    "    \n",
    "    if(verbose) verbose()\n",
    "  )\n",
    "  \n",
    "  stop_for_status(response)\n",
    "  execList <- fromJSON(content(response, as = \"text\"))\n",
    "  return(execList)\n",
    "}"
   ]
  },
  {
   "cell_type": "markdown",
   "metadata": {},
   "source": [
    "## Run the *get job definitions* function"
   ]
  },
  {
   "cell_type": "code",
   "execution_count": null,
   "metadata": {},
   "outputs": [],
   "source": [
    "### protip: always that is possible use a filter\n",
    "### otherwise the endpoint is going to do a full request\n",
    "### and it is going to take a while\n",
    "\n",
    "joblist <- get_jobRequest_list(sasserver, \n",
    "                         token,\n",
    "                         start = 1, \n",
    "                         limit = 20,\n",
    "                         filter = \"eq(createdBy, 'sasdemo')\"\n",
    "                         )\n",
    "\n",
    "\n",
    "joblist"
   ]
  },
  {
   "cell_type": "markdown",
   "metadata": {},
   "source": [
    "## Create a *run job* function"
   ]
  },
  {
   "cell_type": "code",
   "execution_count": null,
   "metadata": {},
   "outputs": [],
   "source": [
    "##################################################\n",
    "### Submit a Job Definition for Execution ########\n",
    "##################################################\n",
    "\n",
    "execute_job_definition <- function(host, \n",
    "                                access_token, \n",
    "                                jobDefinitionId,\n",
    "                                \n",
    "                                ### following parameters overrides definitions\n",
    "                                arguments = NULL,\n",
    "                                ## persistant job needs createdBy, name, desc\n",
    "\n",
    "                                verbose = FALSE) {\n",
    "  \n",
    "  url <- parse_url(host)\n",
    "  url$path <- \"/jobExecution/jobs\"\n",
    "\n",
    "  body <- toJSON(list(\n",
    "    jobDefinitionUri = paste0(\"/jobDefinitions/definitions/\", jobDefinitionId)\n",
    "  ),\n",
    "  auto_unbox = TRUE\n",
    "  )\n",
    "  \n",
    "  response <- POST(\n",
    "    url = build_url(url),\n",
    "    add_headers(\n",
    "      \"accept\"=\"application/vnd.sas.api+json\",\n",
    "      \"Content-Type\" = \"application/vnd.sas.job.execution.job.request+json\",\n",
    "      \"authorization\" = paste(\"Bearer\", access_token)\n",
    "    ),\n",
    "    \n",
    "    body = body, \n",
    "    if(verbose) verbose()\n",
    "  )\n",
    "  \n",
    "  stop_for_status(response)\n",
    "  exec <- fromJSON(content(response, as = \"text\"))\n",
    "  exec$etag <- cache_info(response)$etag\n",
    "  return(exec)\n",
    "}"
   ]
  },
  {
   "cell_type": "markdown",
   "metadata": {},
   "source": [
    "## Run the *run job* function"
   ]
  },
  {
   "cell_type": "code",
   "execution_count": null,
   "metadata": {},
   "outputs": [],
   "source": [
    "### execution is async\n",
    "exec <- execute_job_definition(sasserver, \n",
    "                       token,\n",
    "                       updated_def1 ## job created in job_definition.R\n",
    "                       )\n",
    "exec\n",
    "\n",
    "## use defined parameters\n",
    "exec_param <- execute_job_definition(sasserver, \n",
    "                               token,\n",
    "                               updated_def1, ## job created in job_execution.R\n",
    "                              list(AGE = 14)\n",
    "                               )\n",
    "\n",
    "exec_param$jobRequest$arguments"
   ]
  },
  {
   "cell_type": "markdown",
   "metadata": {},
   "source": [
    "## Create a *get job execution state* function"
   ]
  },
  {
   "cell_type": "code",
   "execution_count": null,
   "metadata": {},
   "outputs": [],
   "source": [
    "check_job_state <- function(host, \n",
    "                      access_token, \n",
    "                      executionId,\n",
    "                      verbose = FALSE) {\n",
    "  \n",
    "  url <- parse_url(host)\n",
    "  url$path <- paste0(\"/jobExecution/jobs/\", executionId,\"/state\")\n",
    "  \n",
    "  response <- GET(\n",
    "    url = build_url(url),\n",
    "    add_headers(\n",
    "      \"accept\"=\"text/plain\",\n",
    "       \"authorization\" = paste(\"Bearer\", access_token)\n",
    "    ),\n",
    "    \n",
    "    if(verbose) verbose()\n",
    "  )\n",
    "  \n",
    "  stop_for_status(response)\n",
    "  execState <- content(response, as = \"text\")\n",
    "  return(execState)\n",
    "}"
   ]
  },
  {
   "cell_type": "markdown",
   "metadata": {},
   "source": [
    "## Run the *get job execution state* function"
   ]
  },
  {
   "cell_type": "code",
   "execution_count": null,
   "metadata": {},
   "outputs": [],
   "source": [
    "execState <- check_job_state(sasserver, \n",
    "                             token,\n",
    "                             exec$id)\n",
    "execState"
   ]
  },
  {
   "cell_type": "markdown",
   "metadata": {},
   "source": [
    "## Create a *get job execution details* function"
   ]
  },
  {
   "cell_type": "code",
   "execution_count": null,
   "metadata": {},
   "outputs": [],
   "source": [
    "get_job_state <- function(host, \n",
    "                            access_token, \n",
    "                            executionId,\n",
    "                            verbose = FALSE) {\n",
    "  \n",
    "  url <- parse_url(host)\n",
    "  url$path <- paste0(\"/jobExecution/jobs/\", executionId)\n",
    "  \n",
    "  response <- GET(\n",
    "    url = build_url(url),\n",
    "    add_headers(\n",
    "      \"accept\"=\"application/vnd.sas.job.execution.job+json\",\n",
    "      \"authorization\" = paste(\"Bearer\", access_token)\n",
    "    ),\n",
    "    \n",
    "    if(verbose) verbose()\n",
    "  )\n",
    "  \n",
    "  stop_for_status(response)\n",
    "  execState <- fromJSON(content(response, as = \"text\"))\n",
    "  return(execState)\n",
    "}"
   ]
  },
  {
   "cell_type": "markdown",
   "metadata": {},
   "source": [
    "## Run the *get job execution details* function"
   ]
  },
  {
   "cell_type": "code",
   "execution_count": null,
   "metadata": {},
   "outputs": [],
   "source": [
    "execStateFull <- get_job_state(sasserver, \n",
    "                             token,\n",
    "                             exec$id)\n",
    "\n",
    "execStateFull$results ## output files\n",
    "execStateFull$endTimeStamp\n",
    "execStateFull$links\n",
    "execStateFull$elapsedTime ## in seconds?\n",
    "execStateFull$id"
   ]
  },
  {
   "cell_type": "markdown",
   "metadata": {},
   "source": [
    "## Create an *update job exectuion request* function"
   ]
  },
  {
   "cell_type": "code",
   "execution_count": null,
   "metadata": {},
   "outputs": [],
   "source": [
    "update_execute_job_definition <- function(host, \n",
    "                                   access_token, \n",
    "                                   jobReqId, ## requestId (exec)\n",
    "                                   jobDefinitionId, ## definitionId\n",
    "                                   etag,\n",
    "                                   name = NULL,\n",
    "                                   description = NULL,\n",
    "                                   arguments = NULL,\n",
    "                                   verbose = FALSE) {\n",
    "  \n",
    "  url <- parse_url(host)\n",
    "  url$path <- paste0(\"/jobExecution/jobRequests/\", jobReqId)\n",
    "  \n",
    "  body <- toJSON(list(\n",
    "    id = jobReqId,\n",
    "    name = name,\n",
    "    description = description,\n",
    "    jobDefinitionUri = paste0(\"/jobDefinitions/definitions/\", jobDefinitionId),\n",
    "    arguments = arguments\n",
    "  ),\n",
    "  auto_unbox = TRUE\n",
    "  )\n",
    "  \n",
    "  response <- PUT( ### updating changes from POST to PUT\n",
    "    url = build_url(url),\n",
    "    add_headers(\n",
    "      \"accept\"=\"application/vnd.sas.api+json\",\n",
    "      \"Content-Type\" = \"application/vnd.sas.job.execution.job.request+json\",\n",
    "      \"authorization\" = paste(\"Bearer\", access_token),\n",
    "      \"If-Match\" = etag\n",
    "    ),\n",
    "    \n",
    "    body = body, \n",
    "    if(verbose) verbose()\n",
    "  )\n",
    "  \n",
    "  stop_for_status(response)\n",
    "  exec <- fromJSON(content(response, as = \"text\"))\n",
    "  return(exec)\n",
    "}"
   ]
  },
  {
   "cell_type": "markdown",
   "metadata": {},
   "source": [
    "## Run the *update job exectuion request* function"
   ]
  },
  {
   "cell_type": "code",
   "execution_count": null,
   "metadata": {},
   "outputs": [],
   "source": [
    "updated_jobExec <- update_execute_job_definition(sasserver,\n",
    "                              token,\n",
    "                              jobReqId = exec$id,\n",
    "                              jobDefinitionId = exec$jobRequest$jobDefinition$id,\n",
    "                              etag = exec$etag,\n",
    "                              name = \"sashelp.class distribution\",\n",
    "                              description = \"ods output with ager 14 cutoff\",\n",
    "                              arguments = list(AGE = \"14\"))\n",
    "\n",
    "updated_jobExec"
   ]
  },
  {
   "cell_type": "markdown",
   "metadata": {},
   "source": [
    "## Create a *delete job definition* function"
   ]
  },
  {
   "cell_type": "code",
   "execution_count": null,
   "metadata": {},
   "outputs": [],
   "source": [
    "#### Delete a Definition\n",
    "delete_job_execution <- function(host, \n",
    "                                  access_token,\n",
    "                                  executionId,\n",
    "                                  verbose = FALSE) {\n",
    "  \n",
    "  url <- parse_url(host)\n",
    "  url$path <- paste0(\"/jobExecution/jobs/\", executionId)\n",
    "  \n",
    "  response <- DELETE(\n",
    "    url = build_url(url),\n",
    "    add_headers(\n",
    "      \"accept\"=\"application/json\",\n",
    "      \"authorization\" = paste(\"Bearer\", access_token)\n",
    "    ),\n",
    "    if(verbose) verbose()\n",
    "  )\n",
    "  \n",
    "  stop_for_status(response)\n",
    "  \n",
    "  if(response$status_code == 204){\n",
    "    print(paste0(\"The job execution \", executionId,\" was successfully deleted.\"))\n",
    "  } else {\n",
    "    print(paste0(\"The job execution \", executionId,\" was not deleted.\"))\n",
    "  }\n",
    "  return(response)\n",
    "}\n"
   ]
  },
  {
   "cell_type": "markdown",
   "metadata": {},
   "source": [
    "## Run the *delete job definition* function"
   ]
  },
  {
   "cell_type": "code",
   "execution_count": null,
   "metadata": {},
   "outputs": [],
   "source": [
    "response <- delete_job_execution(sasserver,\n",
    "                     token,\n",
    "                     execStateFull$id)"
   ]
  },
  {
   "cell_type": "code",
   "execution_count": null,
   "metadata": {},
   "outputs": [],
   "source": []
  }
 ],
 "metadata": {
  "kernelspec": {
   "display_name": "R",
   "language": "R",
   "name": "ir"
  },
  "language_info": {
   "codemirror_mode": "r",
   "file_extension": ".r",
   "mimetype": "text/x-r-source",
   "name": "R",
   "pygments_lexer": "r",
   "version": "3.6.1"
  }
 },
 "nbformat": 4,
 "nbformat_minor": 5
}
