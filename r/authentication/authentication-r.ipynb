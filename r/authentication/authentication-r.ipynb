{
 "cells": [
  {
   "cell_type": "markdown",
   "metadata": {},
   "source": [
    "# Authentication\n",
    "The following scripts register a client (one-time process) and generate an access token for use cases in the repository.\n",
    "\n",
    "#### To find the value of the client_token (Consul token) variable:\n",
    "**In SAS Viya 3.5:** cat /opt/sas/viya/config/etc/SASSecurityCertificateFramework/tokens/consul/default/client.token  \n",
    "**In SAS Viya 202x.x:** kubectl -n sse get secret sas-consul-client -o jsonpath=\"{.data.CONSUL_TOKEN}\" | echo \"$(base64 -d)\""
   ]
  },
  {
   "cell_type": "markdown",
   "metadata": {},
   "source": [
    "## Import modules, assign variables"
   ]
  },
  {
   "cell_type": "code",
   "execution_count": null,
   "metadata": {},
   "outputs": [],
   "source": [
    "library(\"httr\")\n",
    "library(\"jsonlite\")\n",
    "\n",
    "#Global variables to assign:\n",
    "sasserver  <- \"http://your-server\"\n",
    "client_token <- \"consul_token\" # get from SAS Viya server\n",
    "client_name <- \"r_client\" ## create your client\n",
    "client_secret <- \"r_secret\" ## create your password\n",
    "username <- \"viya_user\"\n",
    "password <- \"viya_password\""
   ]
  },
  {
   "cell_type": "markdown",
   "metadata": {},
   "source": [
    "# Create Required Functions"
   ]
  },
  {
   "cell_type": "markdown",
   "metadata": {},
   "source": [
    "## Get Client Token"
   ]
  },
  {
   "cell_type": "code",
   "execution_count": null,
   "metadata": {},
   "outputs": [],
   "source": [
    "#  Get Client Token\n",
    "#  Parameters: \n",
    "#     - host = hostname \n",
    "#     - client_token (get on your SAS Server on this path: \n",
    "#     /opt/sas/viya/config/etc/SASSecurityCertificateFramework/tokens/consul/default/client.token)\n",
    "#  Outputs:\n",
    "#     - This call will generate a token, save it for the next call (where it says 'token_from_call_above')\n",
    "\n",
    "#  Call: \n",
    "\n",
    "get_access_token <- function(host, client_token, verbose = FALSE) {\n",
    "\n",
    "url <- parse_url(host)\n",
    "url$path <- \"/SASLogon/oauth/clients/consul\"\n",
    "url$query <- list(\n",
    "  \"callback\" = \"false\",\n",
    "  \"serviceId\" = client_name\n",
    ")\n",
    "\n",
    "response <- POST(\n",
    "  url = build_url(url),\n",
    "  add_headers(\n",
    "    \"X-Consul-Token\"= client_token\n",
    "  ),\n",
    "  \n",
    "  if(verbose) verbose()\n",
    ")\n",
    "\n",
    "stop_for_status(response)\n",
    "idToken <- fromJSON(content(response, as = \"text\", encoding = \"UTF-8\"))\n",
    "return(idToken)\n",
    "\n",
    "}"
   ]
  },
  {
   "cell_type": "markdown",
   "metadata": {},
   "source": [
    "## Register Client"
   ]
  },
  {
   "cell_type": "code",
   "execution_count": null,
   "metadata": {},
   "outputs": [],
   "source": [
    "#  Register Client\n",
    "#  Parameters: \n",
    "#     - host = hostname\n",
    "#     - idToken = access token from consul idToken$access_token\n",
    "#     - client_name\n",
    "#     - client_secret\n",
    "#  Outputs:\n",
    "#      - It will return the client created\n",
    "\n",
    "# Call:\n",
    "\n",
    "register_client <- function(host, idToken, client_name, client_secret, \n",
    "                            verbose = FALSE, scope = list(\"openid\",\"uaa.admin\")) {\n",
    "\n",
    "  url <- parse_url(host)\n",
    "  url$path <- \"/SASLogon/oauth/clients\"\n",
    "  \n",
    "  body <- list(\n",
    "    \"client_id\" = client_name,\n",
    "    \"scope\" = scope,\n",
    "    \"access_token_validity\" = 36000,\n",
    "    \"client_secret\" = client_secret,\n",
    "    \"resource_ids\" = \"none\",\n",
    "    \"authorities\" = \"uaa.none\",\n",
    "    \"authorized_grant_types\"= \"password\"\n",
    "  )\n",
    "  \n",
    "  response <- POST(\n",
    "    url = build_url(url),\n",
    "    add_headers(\n",
    "      \"Content-Type\"=\"application/json\",\n",
    "      \"authorization\" = paste(\"Bearer\", idToken)\n",
    "      ),\n",
    "    body = toJSON(body, auto_unbox = T),\n",
    "    if(verbose) verbose()\n",
    "  )\n",
    "  \n",
    "  stop_for_status(response)\n",
    "  registered_client <- fromJSON(content(response, as = \"text\", encoding = \"UTF-8\"))\n",
    "  return(registered_client)\n",
    "}"
   ]
  },
  {
   "cell_type": "markdown",
   "metadata": {},
   "source": [
    "## Get API call token"
   ]
  },
  {
   "cell_type": "code",
   "execution_count": null,
   "metadata": {},
   "outputs": [],
   "source": [
    "#  Get API call token\n",
    "#  Paremeters:\n",
    "#     - your_server\n",
    "#     - (Base64) encoded_client_secret\n",
    "#     - your_username\n",
    "#     - your_passwordc\n",
    "#  Outputs:\n",
    "#     - It will return a JSON, you will use the access_token for future calls\n",
    "\n",
    "# Call:\n",
    "\n",
    "\n",
    "authenticate <- function(host, username, password,\n",
    "                         client_name, client_secret, \n",
    "                         verbose = FALSE) {\n",
    "  \n",
    "  client_info <- base64_enc(paste0(client_name, \":\", client_secret))\n",
    "  \n",
    "  url <- parse_url(host)\n",
    "  url$path <- \"/SASLogon/oauth/token\"\n",
    "  url$query <- list(\n",
    "    grant_type = \"password\",\n",
    "    username = username,\n",
    "    password = password \n",
    "  )\n",
    "  \n",
    "  response <- GET(\n",
    "    url = build_url(url),\n",
    "    add_headers(\n",
    "      \"Content-Type\" = \"application/x-www-form-urlencoded\",\n",
    "      \"accept\"=\"application/json\",\n",
    "      \"authorization\" = paste(\"Basic\", client_info)\n",
    "    ),\n",
    "    \n",
    "    if(verbose) verbose()\n",
    "  )\n",
    "  \n",
    "  stop_for_status(response)\n",
    "  registered_clients <- fromJSON(content(response, as = \"text\", encoding = \"UTF-8\"))\n",
    "  return(registered_clients)\n",
    "}"
   ]
  },
  {
   "cell_type": "markdown",
   "metadata": {},
   "source": [
    "# Create Optional Functions"
   ]
  },
  {
   "cell_type": "markdown",
   "metadata": {},
   "source": [
    "## List Clients"
   ]
  },
  {
   "cell_type": "code",
   "execution_count": null,
   "metadata": {},
   "outputs": [],
   "source": [
    "#  List available Clients\n",
    "#  Parameters: \n",
    "#     - host = hostname\n",
    "#     - idToken = access token from consul idToken$access_token\n",
    "#     - startIndex = starting intex from the client results\n",
    "#     - count = number of clients to return\n",
    "#     - cliunt_id_filter = simple regex filter for name search\n",
    "#  Outputs:\n",
    "#      - It will return a list of clients with its properties\n",
    "\n",
    "# Call:\n",
    "\n",
    "list_clients <-  function(host, idToken,\n",
    "                          startIndex = 1, count = 30, \n",
    "                          clind_id_filter = \"\",\n",
    "                          verbose = FALSE) {\n",
    "  \n",
    "  url <- parse_url(host)\n",
    "  url$path <- \"/SASLogon/oauth/clients\"\n",
    "  url$query <- list(\n",
    "    filter = paste0('client_id co \"', clind_id_filter, '\"'),\n",
    "    sortBy = \"client_id\",\n",
    "    startIndex = startIndex,\n",
    "    count = count\n",
    "  )\n",
    "  \n",
    "  response <- GET(\n",
    "    url = build_url(url),\n",
    "    add_headers(\n",
    "      \"accept\"=\"application/json\",\n",
    "      \"authorization\" = paste(\"Bearer\", idToken)\n",
    "    ),\n",
    "    \n",
    "    if(verbose) verbose()\n",
    "  )\n",
    "  \n",
    "  stop_for_status(response)\n",
    "  registered_clients <- fromJSON(content(response, as = \"text\", encoding = \"UTF-8\"))\n",
    "  return(registered_clients)\n",
    "}"
   ]
  },
  {
   "cell_type": "markdown",
   "metadata": {},
   "source": [
    "## Delete Client"
   ]
  },
  {
   "cell_type": "code",
   "execution_count": null,
   "metadata": {},
   "outputs": [],
   "source": [
    "#  Delete Client\n",
    "#  Parameters: \n",
    "#     - host = hostname\n",
    "#     - access_token = access token obtained with authenticate()\n",
    "#     - the access_token client must have one of these scopes:\n",
    "#       uaa.admin clients.write clients.admin zones.uaa.admin\n",
    "#     - client_id = client_name\n",
    "#  Outputs:\n",
    "#      - It will return a list of clients with its properties\n",
    "\n",
    "# Call:\n",
    "\n",
    "delete_client <- function(host, access_token,\n",
    "client_id,\n",
    "verbose = FALSE) {\n",
    "url <- parse_url(host)\n",
    "url$path <- paste0(\"/SASLogon/oauth/clients/\", client_id)\n",
    "response <- DELETE(\n",
    "url = build_url(url),\n",
    "add_headers(\n",
    "\"accept\"=\"application/json\",\n",
    "\"authorization\" = paste(\"Bearer\", token$access_token)\n",
    "),\n",
    "if(verbose) verbose()\n",
    ")\n",
    "warn_for_status(response)\n",
    "if (status_code(response) == \"404\"){\n",
    "warning(\"Even with an 404 error, it is probable the client was successfully deleted\")\n",
    "return(response)} else{\n",
    "deleted_client <- fromJSON(content(response, as = \"text\", encoding = \"UTF-8\"))\n",
    "return(deleted_client)\n",
    "}\n",
    "}"
   ]
  },
  {
   "cell_type": "markdown",
   "metadata": {},
   "source": [
    "## Update Client Secret"
   ]
  },
  {
   "cell_type": "code",
   "execution_count": null,
   "metadata": {},
   "outputs": [],
   "source": [
    "#  Update Client Secret\n",
    "#  Parameters: \n",
    "#     - host = hostname\n",
    "#     - access_token = access token obtained with authenticate()\n",
    "#     - the access_token client must have one of these scopes:\n",
    "#       uaa.admin clients.secret clients.admin zones.uaa.admin\n",
    "#     - client_id = client_name\n",
    "#  Outputs:\n",
    "#      - It will return a list of clients with its properties\n",
    "\n",
    "# Call:\n",
    "\n",
    "update_client_secret <-  function(host, access_token,\n",
    "                           client_id,\n",
    "                           new_secret,\n",
    "                           verbose = FALSE) {\n",
    "  \n",
    "  url <- parse_url(host)\n",
    "  url$path <- paste0(\"/SASLogon/oauth/clients/\", client_id, \"/secret\")\n",
    "  \n",
    "  body <- list(clientId = client_id,\n",
    "               secret = new_secret)\n",
    "  \n",
    "  response <- PUT(\n",
    "    url = build_url(url),\n",
    "    add_headers(\n",
    "      \"Content-Type\" = \"application/json\",\n",
    "      \"accept\"=\"application/json\",\n",
    "      \"authorization\" = paste(\"Bearer\", access_token)\n",
    "    ),\n",
    "    body = toJSON(body, auto_unbox = T),\n",
    "    \n",
    "    if(verbose) verbose()\n",
    "  )\n",
    "  \n",
    "  stop_for_status(response)\n",
    "  secret_update <- fromJSON(content(response, as = \"text\", encoding = \"UTF-8\"))\n",
    "  return(secret_update)\n",
    "}"
   ]
  },
  {
   "cell_type": "markdown",
   "metadata": {},
   "source": [
    "# Run Required Funcitons\n",
    "Recall, you only register the client once."
   ]
  },
  {
   "cell_type": "code",
   "execution_count": null,
   "metadata": {},
   "outputs": [],
   "source": [
    "# Get Client Token\n",
    "idToken <- get_access_token(host = sasserver ,\n",
    "                            client_token = client_token)"
   ]
  },
  {
   "cell_type": "code",
   "execution_count": null,
   "metadata": {},
   "outputs": [],
   "source": [
    "# Register Client\n",
    "client <- register_client(host = sasserver ,\n",
    "                idToken = idToken$access_token,\n",
    "                client_name = client_name,\n",
    "                client_secret = client_secret)"
   ]
  },
  {
   "cell_type": "code",
   "execution_count": null,
   "metadata": {},
   "outputs": [],
   "source": [
    "# Get Access Token\n",
    "token <- authenticate(host = sasserver ,\n",
    "                      username = username,\n",
    "                      password = password,\n",
    "                      client_name = client_name,\n",
    "                      client_secret = client_secret)\n",
    "\n",
    "token$access_token ## for use in optional calls\n",
    "token"
   ]
  },
  {
   "cell_type": "markdown",
   "metadata": {},
   "source": [
    "# Run Optional Functions"
   ]
  },
  {
   "cell_type": "code",
   "execution_count": null,
   "metadata": {},
   "outputs": [],
   "source": [
    "# List available clients\n",
    "client_list <- list_clients(host = sasserver ,\n",
    "                      idToken = idToken$access_token)\n",
    "client_list"
   ]
  },
  {
   "cell_type": "code",
   "execution_count": null,
   "metadata": {},
   "outputs": [],
   "source": [
    "# Delete clients\n",
    "del_cli <- delete_client(sasserver,\n",
    "                        access_token = token$access_token,\n",
    "                        client_id = \"r_client_erase\")"
   ]
  },
  {
   "cell_type": "code",
   "execution_count": null,
   "metadata": {},
   "outputs": [],
   "source": [
    "# Update client secret\n",
    "secret_up <- update_client_secret(sasserver,\n",
    "                                  access_token = token$access_token,\n",
    "                                  client_id = client_name,\n",
    "                                  new_secret = \"new_r_secret\",\n",
    "                                  verbose = FALSE)"
   ]
  }
 ],
 "metadata": {
  "kernelspec": {
   "display_name": "R",
   "language": "R",
   "name": "ir"
  },
  "language_info": {
   "codemirror_mode": "r",
   "file_extension": ".r",
   "mimetype": "text/x-r-source",
   "name": "R",
   "pygments_lexer": "r",
   "version": "3.6.1"
  }
 },
 "nbformat": 4,
 "nbformat_minor": 5
}
