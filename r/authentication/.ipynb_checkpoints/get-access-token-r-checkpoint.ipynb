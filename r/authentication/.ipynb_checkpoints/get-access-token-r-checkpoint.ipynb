{
 "cells": [
  {
   "cell_type": "markdown",
   "metadata": {},
   "source": [
    "# Get Access Token\n",
    "If you have previously registered a client using the authentication use case, use this script to create an access token."
   ]
  },
  {
   "cell_type": "markdown",
   "metadata": {},
   "source": [
    "## Import modules, assign variables"
   ]
  },
  {
   "cell_type": "code",
   "execution_count": null,
   "metadata": {},
   "outputs": [],
   "source": [
    "library(\"httr\")\n",
    "library(\"jsonlite\")\n",
    "\n",
    "#Global variables to assign:\n",
    "sasserver  <- \"http://your-server\"\n",
    "client_name <- \"r_client\" ## your client\n",
    "client_secret <- \"r_secret\" ## your password\n",
    "username <- \"viya_user\"\n",
    "password <- \"viya_password\""
   ]
  },
  {
   "cell_type": "markdown",
   "metadata": {},
   "source": [
    "## Get access token for calls"
   ]
  },
  {
   "cell_type": "code",
   "execution_count": null,
   "metadata": {},
   "outputs": [],
   "source": [
    "#  Get API call token\n",
    "#  Paremeters:\n",
    "#     - your_server\n",
    "#     - (Base64) encoded_client_secret\n",
    "#     - your_username\n",
    "#     - your_passwordc\n",
    "#  Outputs:\n",
    "#     - It will return a JSON, you will use the access_token for future calls\n",
    "\n",
    "# Call:\n",
    "\n",
    "\n",
    "authenticate <- function(host, username, password,\n",
    "                         client_name, client_secret, \n",
    "                         verbose = FALSE) {\n",
    "  \n",
    "  client_info <- base64_enc(paste0(client_name, \":\", client_secret))\n",
    "  \n",
    "  url <- parse_url(host)\n",
    "  url$path <- \"/SASLogon/oauth/token\"\n",
    "  url$query <- list(\n",
    "    grant_type = \"password\",\n",
    "    username = username,\n",
    "    password = password \n",
    "  )\n",
    "  \n",
    "  response <- GET(\n",
    "    url = build_url(url),\n",
    "    add_headers(\n",
    "      \"Content-Type\" = \"application/x-www-form-urlencoded\",\n",
    "      \"accept\"=\"application/json\",\n",
    "      \"authorization\" = paste(\"Basic\", client_info)\n",
    "    ),\n",
    "    \n",
    "    if(verbose) verbose()\n",
    "  )\n",
    "  \n",
    "  stop_for_status(response)\n",
    "  registered_clients <- fromJSON(content(response, as = \"text\"))\n",
    "  return(registered_clients)\n",
    "}"
   ]
  },
  {
   "cell_type": "markdown",
   "metadata": {},
   "source": [
    "## Run get access token function"
   ]
  },
  {
   "cell_type": "code",
   "execution_count": null,
   "metadata": {},
   "outputs": [],
   "source": [
    "# Get Access Token\n",
    "token <- authenticate(host = sasserver ,\n",
    "                      username = username,\n",
    "                      password = password,\n",
    "                      client_name = client_name,\n",
    "                      client_secret = client_secret)\n",
    "\n",
    "token$access_token ## for use in other calls\n",
    "token"
   ]
  },
  {
   "cell_type": "code",
   "execution_count": null,
   "metadata": {},
   "outputs": [],
   "source": []
  }
 ],
 "metadata": {
  "kernelspec": {
   "display_name": "R",
   "language": "R",
   "name": "ir"
  },
  "language_info": {
   "codemirror_mode": "r",
   "file_extension": ".r",
   "mimetype": "text/x-r-source",
   "name": "R",
   "pygments_lexer": "r",
   "version": "3.6.1"
  }
 },
 "nbformat": 4,
 "nbformat_minor": 5
}
