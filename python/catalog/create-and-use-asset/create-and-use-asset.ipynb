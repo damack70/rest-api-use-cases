{
 "cells": [
  {
   "cell_type": "markdown",
   "id": "177908af",
   "metadata": {},
   "source": [
    "# Create and Use Asset\n",
    "This notebook leverages the Catalog API to create and use an asset.\n",
    "\n",
    "Before creating an asset, a schema must first be defined. Afterwards, assets can be created according to this defined schema.\n",
    "\n",
    "In the Catalog API, a schema for an asset is defined using a type definition. For this use case, we create a type definition for a new asset type named *publicDataSet*.\n",
    "\n",
    "With the schema defined, assets and relationships can be created using instances endpoints. In the Catalog AP, an instance of an asset type is known as an entity. The scenario shows both how to create a single asset and how to use an archive to create or update assets and relationships. The relationship in this scenario is adding a contact to an asset.\n",
    "\n",
    "The assets are queried using both a view and a filter on the instances endpoint.\n",
    "\n",
    "NOTE: Please make sure you run [Imports and Global Variables](#imports) before executing anything else in this notebook. Also ensure you are authenticated by running [Get Access Token](#authentication).\n"
   ]
  },
  {
   "cell_type": "markdown",
   "id": "e2e578df",
   "metadata": {},
   "source": [
    "## Imports and Global Variables <a id='imports'></a>\n",
    "Run this cell before any of the others as it imports packages and sets variables that will be used throughout the notebook."
   ]
  },
  {
   "cell_type": "code",
   "execution_count": null,
   "id": "1c4499f9",
   "metadata": {},
   "outputs": [],
   "source": [
    "import requests\n",
    "import json\n",
    "\n",
    "sasserver = \"https://your_server\"\n",
    "username = \"your_username\"\n",
    "\n",
    "print (sasserver)\n",
    "print (username)"
   ]
  },
  {
   "cell_type": "markdown",
   "id": "f2ddefb0",
   "metadata": {},
   "source": [
    "# Get Access token <a id='authentication'></a>"
   ]
  },
  {
   "cell_type": "code",
   "execution_count": null,
   "id": "81b43590",
   "metadata": {},
   "outputs": [],
   "source": [
    "url = sasserver + \"/SASLogon/oauth/token#password\"\n",
    "\n",
    "payload={\n",
    "    'grant_type': 'password',\n",
    "    'username': username,\n",
    "    'password': \"your_password\"\n",
    "}\n",
    "files=[\n",
    "\n",
    "]\n",
    "headers = {\n",
    "  'Authorization': 'Basic c2FzLmVjOg==',\n",
    "}\n",
    "\n",
    "response = requests.request(\"POST\", url, headers=headers, data=payload, files=files, verify=False)\n",
    "\n",
    "response = response.json()\n",
    "access_token = response[\"access_token\"]"
   ]
  },
  {
   "cell_type": "markdown",
   "id": "b6237ec0",
   "metadata": {},
   "source": [
    "# Create type definition\n"
   ]
  },
  {
   "cell_type": "code",
   "execution_count": null,
   "id": "12470cfb",
   "metadata": {},
   "outputs": [],
   "source": [
    "url = sasserver + \"/catalog/definitions\"\n",
    "\n",
    "payload = json.dumps({\"definitionType\": \"entity\",\n",
    "                      \"description\": \"Public Data Set\",\n",
    "                      \"id\": \"3eb3719a-2c62-4889-b66e-abe6cb24c7a8\",\n",
    "                      \"name\": \"publicDataSet\",\n",
    "                      \"platformTypeName\": \"publicDataSet\",\n",
    "                      \"label\": \"Public Data Set\",\n",
    "                      \"version\": 2,\n",
    "                      \"baseType\": \"asset\",\n",
    "                      \"metaCategory\": \"PRIMARY\",\n",
    "                      \"attributeDefinitions\": {\n",
    "                          \"externalLink\": {\n",
    "                              \"description\": \"External URL of the resource\",\n",
    "                              \"name\": \"externalLink\",\n",
    "                              \"label\": \"Resource Link\",\n",
    "                              \"type\": \"string\"\n",
    "                          },\n",
    "                          \"usabilityRating\": {\n",
    "                              \"name\": \"usabilityRating\",\n",
    "                              \"label\": \"Usability Rating\",\n",
    "                              \"type\": \"number\"\n",
    "                          },\n",
    "                          \"keywords\": {\n",
    "                              \"name\": \"keywords\",\n",
    "                              \"label\": \"Keywords\",\n",
    "                              \"description\": \"Terms used to search and describe the data set.\",\n",
    "                              \"type\": \"string\"\n",
    "                          },\n",
    "                          \"license\": {\n",
    "                              \"name\": \"license\",\n",
    "                              \"label\": \"license\",\n",
    "                              \"type\": \"string\"\n",
    "                          }\n",
    "                      }\n",
    "                     })\n",
    "headers = {\n",
    "  'Content-Type': 'application/vnd.sas.metadata.definition.entity+json;version=2',\n",
    "  'Accept': 'application/vnd.sas.metadata.definition.entity+json;version=2',\n",
    "  'Authorization': 'Bearer ' + access_token\n",
    "}\n",
    "\n",
    "response = requests.request(\"POST\", url, headers=headers, data=payload, verify=False)\n",
    "\n",
    "response = response.json()\n",
    "print(json.dumps(response, indent=2))\n",
    "type_definition_id = response[\"id\"]\n",
    "type_definition_name = response[\"name\"]\n"
   ]
  },
  {
   "cell_type": "markdown",
   "id": "b8d3998c",
   "metadata": {},
   "source": [
    "# Create entity instance"
   ]
  },
  {
   "cell_type": "code",
   "execution_count": null,
   "id": "4235085f",
   "metadata": {},
   "outputs": [],
   "source": [
    "url = sasserver + \"/catalog/instances\"\n",
    "\n",
    "payload = json.dumps({\n",
    "  \"version\": 1,\n",
    "  \"id\": \"97c78bcd-cd40-4f22-a1c6-dc3e49c5244a\",\n",
    "  \"instanceType\": \"entity\",\n",
    "  \"definition\": \"publicDataSet\",\n",
    "  \"name\": \"countries-of-the-world-2023\",\n",
    "  \"description\": \"A Comprehensive Dataset Empowering In-Depth Analysis and Cross-Country Insights\",\n",
    "  \"label\": \"Global Country Information Dataset 2023\",\n",
    "  \"attributes\": {\n",
    "    \"externalLink\": \"https://www.kaggle.com/datasets/nelgiriyewithana/countries-of-the-world-2023\",\n",
    "    \"usabilityRating\": 1,\n",
    "    \"keywords\": \"education,social science,computer science,data visualization,data analytics,classification\",\n",
    "    \"license\": \"Attribution 4.0 International (CC BY 4.0)\"\n",
    "  },\n",
    "  \"resourceId\": \"/catalog/instances/97c78bcd-cd40-4f22-a1c6-dc3e49c5244a\"\n",
    "})\n",
    "headers = {\n",
    "  'Content-Type': 'application/vnd.sas.metadata.instance.entity+json',\n",
    "  'Accept': 'application/vnd.sas.metadata.instance.entity+json',\n",
    "  'Authorization': 'Bearer ' + access_token\n",
    "}\n",
    "\n",
    "response = requests.request(\"POST\", url, headers=headers, data=payload, verify=False)\n",
    "\n",
    "response = response.json()\n",
    "print(json.dumps(response, indent=2))\n",
    "entity_id = response[\"id\"]\n"
   ]
  },
  {
   "cell_type": "markdown",
   "id": "5bccd8db",
   "metadata": {},
   "source": [
    "# Create entity for principal to use for contact"
   ]
  },
  {
   "cell_type": "code",
   "execution_count": null,
   "id": "464b8e43",
   "metadata": {},
   "outputs": [],
   "source": [
    "url = sasserver + \"/catalog/instances\"\n",
    "\n",
    "payload = json.dumps({\n",
    "  \"version\": 1,\n",
    "  \"instanceType\": \"entity\",\n",
    "  \"definition\": \"principal\",\n",
    "  \"definitionId\": \"9438c63d-ac1d-4c96-a6f4-087463adef41\",\n",
    "  \"name\": username,\n",
    "  \"type\": \"principal\",\n",
    "  \"attributes\": {\n",
    "    \"principalType\": \"user\"\n",
    "  },\n",
    "  \"resourceId\": \"/identities/users/etladm\"\n",
    "})\n",
    "headers = {\n",
    "  'Content-Type': 'application/vnd.sas.metadata.instance.entity+json',\n",
    "  'Accept': 'application/vnd.sas.metadata.instance.entity+json',\n",
    "  'Authorization': 'Bearer ' + access_token\n",
    "}\n",
    "\n",
    "response = requests.request(\"POST\", url, headers=headers, data=payload, verify=False)\n",
    "response = response.json()\n",
    "print(json.dumps(response, indent=2))"
   ]
  },
  {
   "cell_type": "markdown",
   "id": "d787cecb",
   "metadata": {},
   "source": [
    "# Get principal for contact"
   ]
  },
  {
   "cell_type": "code",
   "execution_count": null,
   "id": "6e2808c8",
   "metadata": {},
   "outputs": [],
   "source": [
    "url = sasserver + \"/catalog/instances?filter=and(eq(type,'principal'),eq(name,'\" + username + \"'))\"\n",
    "\n",
    "payload = \"\"\n",
    "headers = {\n",
    "  'Accept-Item': 'application/vnd.sas.metadata.instance.entity+json',\n",
    "  'Authorization': 'Bearer ' + access_token\n",
    "}\n",
    "\n",
    "response = requests.request(\"GET\", url, headers=headers, data=payload, verify=False)\n",
    "\n",
    "response = response.json()\n",
    "print(json.dumps(response, indent=2))\n",
    "principal_id = response['items'][0]['id']"
   ]
  },
  {
   "cell_type": "markdown",
   "id": "c5dfa3cb",
   "metadata": {},
   "source": [
    "#  Create/Update entity and relationship with instance archive"
   ]
  },
  {
   "cell_type": "code",
   "execution_count": null,
   "id": "28f388f2",
   "metadata": {},
   "outputs": [],
   "source": [
    "from wsgiref.handlers import format_date_time\n",
    "from datetime import datetime\n",
    "from time import mktime\n",
    "\n",
    "now = datetime.now()\n",
    "stamp = mktime(now.timetuple())\n",
    "modified_time = format_date_time(stamp)\n",
    "\n",
    "url = sasserver + \"/catalog/instances?onConflict=update\"\n",
    "\n",
    "payload = json.dumps({\n",
    "  \"entities\": [\n",
    "    {\n",
    "      \"version\": 1,\n",
    "      \"id\": \"749c06e2-3074-4a6b-a2de-7a42876f4db0\",\n",
    "      \"instanceType\": \"entity\",\n",
    "      \"definition\": \"publicDataSet\",\n",
    "      \"name\": \"global-data-on-sustainable-energy\",\n",
    "      \"description\": \"If you found this data helpful, a vote is appreciated u2764ufe0f.  Do share your feedback in the discussion section.nn# Key Features:n&gt;- **Entity**: The name of the country or region for which the data is reported.n- **Year**: The year for which the data is reported, ranging from 2000 to 2020.n- **Access to electricity (% of population)**: The percentage of population with access to electricity.n- **Access to clean fuels for cooking (% of population)**: The percentage of the population with primary reliance on clean fuels.n- **Renewable-electricity-generating-capacity-per-capita**: Installed Renewable energy capacity per personn- **Financial flows to developing countries (US $)**: Aid and assistance from developed countries for clean energy projects.n- **Renewable energy share in total final energy consumption (%)**: Percentage of renewable energy in final energy consumption.n- **Electricity from fossil fuels (TWh)**: Electricity generated from fossil fuels  ..(truncated)\",\n",
    "      \"attributes\": {\n",
    "        \"externalLink\": \"https://www.kaggle.com/datasets/anshtanwar/global-data-on-sustainable-energy\",\n",
    "        \"usabilityRating\": 1,\n",
    "        \"keywords\": \"education,energy,computer science,data visualization,classification\",\n",
    "        \"license\": \"Attribution 4.0 International (CC BY 4.0)\"\n",
    "      },\n",
    "      \"resourceId\": \"/catalog/instances/749c06e2-3074-4a6b-a2de-7a42876f4db0\"\n",
    "    }\n",
    "  ],\n",
    "  \"relationships\": [\n",
    "    {\n",
    "      \"id\": \"f09b2631-665f-4f16-905d-a172b7b45085\",\n",
    "      \"creationTimeStamp\": \"0001-01-01T00:00:00Z\",\n",
    "      \"modifiedTimeStamp\": \"0001-01-01T00:00:00Z\",\n",
    "      \"instanceType\": \"relationship\",\n",
    "      \"definition\": \"assetContacts\",\n",
    "      \"endpoint1Id\": \"749c06e2-3074-4a6b-a2de-7a42876f4db0\",\n",
    "      \"endpoint2Id\": principal_id\n",
    "    }\n",
    "  ]\n",
    "})\n",
    "headers = {\n",
    "  'Content-Type': 'application/vnd.sas.metadata.instance.archive+json',\n",
    "  'Accept': 'application/vnd.sas.metadata.instance.archive+json',\n",
    "  'If-Unmodified-Since': modified_time,\n",
    "  'Authorization': 'Bearer ' + access_token\n",
    "}\n",
    "\n",
    "response = requests.request(\"POST\", url, headers=headers, data=payload, verify=False)\n",
    "\n",
    "response = response.json()\n",
    "print(json.dumps(response, indent=2))\n",
    "\n",
    "entity2_id = response['entities'][0]['id']"
   ]
  },
  {
   "cell_type": "markdown",
   "id": "8c3474c9",
   "metadata": {},
   "source": [
    "# Get an archive of entities and relationship using a view"
   ]
  },
  {
   "cell_type": "code",
   "execution_count": null,
   "id": "b5454b52",
   "metadata": {},
   "outputs": [],
   "source": [
    "url = sasserver + \"/catalog/instances\"\n",
    "payload = json.dumps({\n",
    "  \"query\": \"match (t)-[r]-(c) return t, r, c\",\n",
    "  \"parameters\": {\n",
    "    \"t\": {\n",
    "      \"id\": entity2_id\n",
    "    }\n",
    "  }\n",
    "})\n",
    "headers = {\n",
    "  'Content-Type': 'application/vnd.sas.metadata.instance.query+json',\n",
    "  'Accept': 'application/vnd.sas.metadata.instance.archive+json',\n",
    "  'Authorization': 'Bearer ' + access_token\n",
    "}\n",
    "\n",
    "response = requests.request(\"POST\", url, headers=headers, data=payload, verify=False)\n",
    "\n",
    "response = response.json()\n",
    "print(json.dumps(response, indent=2))\n"
   ]
  },
  {
   "cell_type": "markdown",
   "id": "7c0663ee",
   "metadata": {},
   "source": [
    "#  Get an archive of entities related to principal contact"
   ]
  },
  {
   "cell_type": "code",
   "execution_count": null,
   "id": "01b98226",
   "metadata": {},
   "outputs": [],
   "source": [
    "url = sasserver + \"/catalog/instances\"\n",
    "payload = json.dumps({\n",
    "  \"query\": \"match (t)-[r]-(c) return c\",\n",
    "  \"parameters\": {\n",
    "    \"t\": {\n",
    "      \"id\": principal_id\n",
    "    }\n",
    "  }\n",
    "})\n",
    "headers = {\n",
    "  'Content-Type': 'application/vnd.sas.metadata.instance.query+json',\n",
    "  'Accept': 'application/vnd.sas.metadata.instance.archive+json',\n",
    "  'Authorization': 'Bearer ' + access_token\n",
    "}\n",
    "\n",
    "response = requests.request(\"POST\", url, headers=headers, data=payload, verify=False)\n",
    "\n",
    "response = response.json()\n",
    "print(json.dumps(response, indent=2))"
   ]
  },
  {
   "cell_type": "markdown",
   "id": "81f0d4c3",
   "metadata": {},
   "source": [
    "# Find entity with filter using type and name"
   ]
  },
  {
   "cell_type": "code",
   "execution_count": null,
   "id": "a46da98b",
   "metadata": {},
   "outputs": [],
   "source": [
    "url = sasserver + \"/catalog/instances?filter=and(eq(type,'publicDataSet'),contains(name, 'global'))\"\n",
    "\n",
    "payload = \"\"\n",
    "headers = {\n",
    "  'Authorization': 'Bearer ' + access_token\n",
    "}\n",
    "\n",
    "response = requests.request(\"GET\", url, headers=headers, data=payload, verify=False)\n",
    "\n",
    "response = response.json()\n",
    "print(json.dumps(response, indent=2))"
   ]
  },
  {
   "cell_type": "markdown",
   "id": "52e9e99e",
   "metadata": {},
   "source": [
    "#  Delete entities using archive"
   ]
  },
  {
   "cell_type": "code",
   "execution_count": null,
   "id": "edc9e44a",
   "metadata": {},
   "outputs": [],
   "source": [
    "url = sasserver + \"/catalog/instances\"\n",
    "\n",
    "payload = json.dumps({\n",
    "  \"deletions\": [\n",
    "    entity_id,\n",
    "    entity2_id\n",
    "  ]\n",
    "})\n",
    "headers = {\n",
    "  'Content-Type': 'application/vnd.sas.metadata.instance.archive+json',\n",
    "  'Authorization': 'Bearer ' + access_token\n",
    "}\n",
    "\n",
    "response = requests.request(\"POST\", url, headers=headers, data=payload, verify=False)\n",
    "\n",
    "response = response.json()\n",
    "print(json.dumps(response, indent=2))"
   ]
  },
  {
   "cell_type": "markdown",
   "id": "00cf140a",
   "metadata": {},
   "source": [
    "# Delete a type definition"
   ]
  },
  {
   "cell_type": "code",
   "execution_count": null,
   "id": "0400d7a0",
   "metadata": {},
   "outputs": [],
   "source": [
    "url = sasserver + \"/catalog/definitions/\" + type_definition_id\n",
    "\n",
    "payload = {}\n",
    "headers = {\n",
    "  'Authorization': 'Bearer ' + access_token\n",
    "}\n",
    "\n",
    "response = requests.request(\"DELETE\", url, headers=headers, data=payload, verify=False)\n",
    "\n",
    "if response.status_code == 204:\n",
    "    print(\"Type definition deleted successfully\")\n",
    "else:\n",
    "    print(f\"Error. Here is the response:\\n{response.json()}\")\n"
   ]
  }
 ],
 "metadata": {
  "kernelspec": {
   "display_name": "Python 3 (ipykernel)",
   "language": "python",
   "name": "python3"
  },
  "language_info": {
   "codemirror_mode": {
    "name": "ipython",
    "version": 3
   },
   "file_extension": ".py",
   "mimetype": "text/x-python",
   "name": "python",
   "nbconvert_exporter": "python",
   "pygments_lexer": "ipython3",
   "version": "3.10.9"
  }
 },
 "nbformat": 4,
 "nbformat_minor": 5
}
