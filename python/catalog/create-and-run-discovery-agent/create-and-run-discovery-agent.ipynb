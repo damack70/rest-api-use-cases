{
 "cells": [
  {
   "cell_type": "markdown",
   "id": "c21bd38a",
   "metadata": {},
   "source": [
    "# Create and Run a Discovery Agent\n",
    "\n",
    "A Discovery Agent ingests, analyzes, and stores metadata about the data related assets in a data connection.  Agents are especially useful when metadata is not ingested in some other way, through events or via the catalog API.  The catalog service enables constructing, running, and monitoring Agents as independent, event driven processes. Agents store the metadata they collect into the catalog.  "
   ]
  },
  {
   "cell_type": "markdown",
   "id": "1faef169",
   "metadata": {},
   "source": [
    "## Imports and Global Variables"
   ]
  },
  {
   "cell_type": "markdown",
   "id": "5aa5fe6d",
   "metadata": {},
   "source": [
    "Run this cell before any of the others as it imports packages and sets variables that will be used throughout the notebook"
   ]
  },
  {
   "cell_type": "code",
   "execution_count": null,
   "id": "ac9717dc",
   "metadata": {},
   "outputs": [],
   "source": [
    "import requests\n",
    "import json\n",
    "sasserver = \"https://your_server\"\n",
    "print (sasserver)"
   ]
  },
  {
   "cell_type": "markdown",
   "id": "d5a5b14b",
   "metadata": {},
   "source": [
    "## Get Access token"
   ]
  },
  {
   "cell_type": "code",
   "execution_count": null,
   "id": "f515fc00",
   "metadata": {
    "scrolled": false
   },
   "outputs": [],
   "source": [
    "url = sasserver + \"/SASLogon/oauth/token#password\"\n",
    "\n",
    "payload={\n",
    "    'grant_type': 'password',\n",
    "    'username': 'your_username',\n",
    "    'password': 'your_password'\n",
    "}\n",
    "files=[\n",
    "\n",
    "]\n",
    "headers = {\n",
    "  'Authorization': 'Basic c2FzLmVjOg==',\n",
    "}\n",
    "\n",
    "response = requests.request(\"POST\", url, headers=headers, data=payload, files=files, verify=False)\n",
    "print(response)\n",
    "response = response.json()\n",
    "print(response)\n",
    "access_token = response[\"access_token\"]"
   ]
  },
  {
   "cell_type": "markdown",
   "id": "b4b0331e",
   "metadata": {},
   "source": [
    "## Create Discovery Agent"
   ]
  },
  {
   "cell_type": "code",
   "execution_count": null,
   "id": "c5071148",
   "metadata": {},
   "outputs": [],
   "source": [
    "url = sasserver + \"/catalog/bots\"\n",
    "\n",
    "payload = json.dumps({\n",
    "  \"provider\": \"TABLE-BOT\",\n",
    "  \"name\": \"Samples Discovery Agent\",\n",
    "    \"description\": \"Ingest, analyze, and store metadata from Samples caslib\",\n",
    "  \"parameters\": {\n",
    "    \"datasourceURI\": \"/dataSources/providers/cas/sources/cas-shared-default~fs~Samples\",\n",
    "    \"region\": \"US NC\"\n",
    "  }\n",
    "})\n",
    "headers = {\n",
    "  'Content-Type': 'application/json',\n",
    "  'Authorization': 'Bearer ' + access_token\n",
    "}\n",
    "\n",
    "response = requests.request(\"POST\", url, headers=headers, data=payload, verify=False)\n",
    "print(response)\n",
    "response = response.json()\n",
    "print(response)\n",
    "bot_id = response[\"id\"]\n",
    "\n",
    "\n"
   ]
  },
  {
   "cell_type": "markdown",
   "id": "54dc4992",
   "metadata": {},
   "source": [
    "## Run Discovery Agent"
   ]
  },
  {
   "cell_type": "code",
   "execution_count": null,
   "id": "93a0ca7d",
   "metadata": {},
   "outputs": [],
   "source": [
    "url = sasserver + \"/catalog/bots/\" + bot_id + \"/state?value=running\"\n",
    "\n",
    "payload = {}\n",
    "headers = {\n",
    "  'Accept': 'text/plain',\n",
    "  'Authorization': 'Bearer ' + access_token\n",
    "}\n",
    "\n",
    "response = requests.request(\"PUT\", url, headers=headers, data=payload, verify=False)\n",
    "print(response)\n",
    "print(response.text)\n"
   ]
  },
  {
   "cell_type": "markdown",
   "id": "d218f0fa",
   "metadata": {},
   "source": [
    "## Get Discovery Agent state"
   ]
  },
  {
   "cell_type": "markdown",
   "id": "b3cbd5e2",
   "metadata": {},
   "source": [
    "Repeat this code snippet until the response is idle."
   ]
  },
  {
   "cell_type": "code",
   "execution_count": null,
   "id": "d7aeeb68",
   "metadata": {},
   "outputs": [],
   "source": [
    "url = sasserver + \"/catalog/bots/\" + bot_id + \"/state\"\n",
    "\n",
    "payload = {}\n",
    "headers = {\n",
    "  'Accept': 'text/plain',\n",
    "  'Authorization': 'Bearer ' + access_token\n",
    "}\n",
    "\n",
    "response = requests.request(\"GET\", url, headers=headers, data=payload, verify=False)\n",
    "print(response)\n",
    "print(response.text)\n"
   ]
  },
  {
   "cell_type": "markdown",
   "id": "73d67b73",
   "metadata": {},
   "source": [
    "## Post /instances#archive"
   ]
  },
  {
   "cell_type": "markdown",
   "id": "19fa0595",
   "metadata": {},
   "source": [
    "This request will return instances with metadata from the Samples Library that was analyzed by the Discovery Agent."
   ]
  },
  {
   "cell_type": "code",
   "execution_count": null,
   "id": "2157e064",
   "metadata": {},
   "outputs": [],
   "source": [
    "url = sasserver + \"/catalog/instances\"\n",
    "\n",
    "payload = json.dumps({\n",
    "  \"query\": \"match (l:casLibrary {name:\\\"Samples\\\"})-[r:dataStoreDataSets]->(t:casTable)-[rc:dataSetDataFields]->(c:casColumn) return t,rc,c\"\n",
    "})\n",
    "headers = {\n",
    "  'Content-Type': 'application/vnd.sas.metadata.instance.query+json',\n",
    "  'Accept': 'application/vnd.sas.metadata.instance.archive+json',\n",
    "  'Authorization': 'Bearer ' + access_token\n",
    "}\n",
    "response = requests.request(\"POST\", url, headers=headers, data=payload, verify=False)\n",
    "\n",
    "print(response.text)\n"
   ]
  },
  {
   "cell_type": "markdown",
   "id": "b994cd01",
   "metadata": {},
   "source": [
    "# Optional Discovery Agent Requests"
   ]
  },
  {
   "cell_type": "markdown",
   "id": "494aead6",
   "metadata": {},
   "source": [
    "## Get Discovery Agent History"
   ]
  },
  {
   "cell_type": "markdown",
   "id": "277944cc",
   "metadata": {},
   "source": [
    "This request returns the Agents execution history."
   ]
  },
  {
   "cell_type": "code",
   "execution_count": null,
   "id": "4bf523e7",
   "metadata": {},
   "outputs": [],
   "source": [
    "url = sasserver + \"/catalog/bots/\" + bot_id + \"/history\"\n",
    "\n",
    "payload = {}\n",
    "headers = {\n",
    "  'Accept': 'application/vnd.sas.collection+json',\n",
    "  'Accept-Item': 'application/vnd.sas.metadata.bot.history+json',\n",
    "  'Authorization': 'Bearer ' + access_token\n",
    "}\n",
    "\n",
    "response = requests.request(\"GET\", url, headers=headers, data=payload, verify=False)\n",
    "\n",
    "print(response.text)\n"
   ]
  },
  {
   "cell_type": "markdown",
   "id": "8a370e59",
   "metadata": {},
   "source": [
    "## Get Discovery Agent"
   ]
  },
  {
   "cell_type": "code",
   "execution_count": null,
   "id": "ccf48b26",
   "metadata": {},
   "outputs": [],
   "source": [
    "url = sasserver + \"/catalog/bots/\" + bot_id\n",
    "\n",
    "payload = {}\n",
    "headers = {\n",
    "  'Accept': 'application/vnd.sas.metadata.scheduled.bot+json',\n",
    "  'Authorization': 'Bearer ' + access_token\n",
    "}\n",
    "\n",
    "response = requests.request(\"GET\", url, headers=headers, data=payload, verify=False)\n",
    "print(response)\n",
    "e_tag = response.headers[\"ETag\"]\n",
    "print ('ETag='+ e_tag)\n",
    "response = response.json()\n",
    "print(response)    \n"
   ]
  },
  {
   "cell_type": "markdown",
   "id": "c2b0d4b9",
   "metadata": {},
   "source": [
    "## Update Discovery Agent"
   ]
  },
  {
   "cell_type": "markdown",
   "id": "51d4c71f",
   "metadata": {},
   "source": [
    "This code snippet can be used to update fields or the jobParameters in the Discovery Agent Body."
   ]
  },
  {
   "cell_type": "code",
   "execution_count": null,
   "id": "01a9c5ca",
   "metadata": {},
   "outputs": [],
   "source": [
    "url = sasserver + \"/catalog/bots/\" + bot_id\n",
    "\n",
    "payload = json.dumps({\n",
    "  \"provider\": \"TABLE-BOT\",\n",
    "  \"name\": \"Samples Discovery Agent\",\n",
    "  \"id\": bot_id,\n",
    "  \"description\": \"Ingest, analyze, and store metadata from Samples caslib\",\n",
    "  \"parameters\": {\n",
    "    \"datasourceURI\": \"/dataSources/providers/cas/sources/cas-shared-default~fs~Samples\",\n",
    "    \"region\": \"US NC\"\n",
    "  },\n",
    "  \"jobParameters\": {\n",
    "    \"getNLPSemanticID\": \"0\",\n",
    "    \"identifyLanguage\": \"0\",\n",
    "    \"mineForKeywords\": \"0\"\n",
    "  }\n",
    "})\n",
    "headers = {\n",
    "  'If-Match': e_tag,\n",
    "  'Accept': 'application/vnd.sas.metadata.bot+json',\n",
    "  'Content-Type': 'application/json',\n",
    "  'Authorization': 'Bearer ' + access_token \n",
    "}\n",
    "\n",
    "response = requests.request(\"PUT\", url, headers=headers, data=payload, verify=False)\n",
    "\n",
    "print(response.text)\n"
   ]
  },
  {
   "cell_type": "markdown",
   "id": "2a4dc3e7",
   "metadata": {},
   "source": [
    "## Delete Discovery Agent"
   ]
  },
  {
   "cell_type": "code",
   "execution_count": null,
   "id": "0bf70f41",
   "metadata": {},
   "outputs": [],
   "source": [
    "url = sasserver + \"/catalog/bots/\" + bot_id\n",
    "payload = {}\n",
    "headers = {\n",
    "  'Authorization': 'Bearer ' + access_token\n",
    "}\n",
    "\n",
    "response = requests.request(\"DELETE\", url, headers=headers, data=payload, verify=False)\n",
    "print(response)\n"
   ]
  },
  {
   "cell_type": "code",
   "execution_count": null,
   "id": "a3e7caef",
   "metadata": {},
   "outputs": [],
   "source": []
  }
 ],
 "metadata": {
  "kernelspec": {
   "display_name": "Python 3 (ipykernel)",
   "language": "python",
   "name": "python3"
  },
  "language_info": {
   "codemirror_mode": {
    "name": "ipython",
    "version": 3
   },
   "file_extension": ".py",
   "mimetype": "text/x-python",
   "name": "python",
   "nbconvert_exporter": "python",
   "pygments_lexer": "ipython3",
   "version": "3.10.9"
  }
 },
 "nbformat": 4,
 "nbformat_minor": 5
}
