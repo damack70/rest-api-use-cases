{
 "cells": [
  {
   "cell_type": "markdown",
   "id": "cd3b1161",
   "metadata": {},
   "source": [
    "# Search and find assets\n",
    "\n",
    "0. [Get Access Token](#authentication)\n",
    "1. [Search for facets related toLibrary](#find-facets)\n",
    "2. [Get data sets with Library.name facet](#use-facets)\n",
    "3. [Get data sets with free text query](#get-tables)\n",
    "4. [Get the 'datesets' search indices](#get-index)\n",
    "5. [Get list of suggestions for 'Name' facet within the datasets index](#get-suggestions)\n",
    "6. [Search for tables with 'WARRANTY' in the name that have been updated since yesterday](#get-last-updated)\n",
    "7. [Find all crawled tables that contain columns classified as Date](#get-crawled-tables)\n",
    "8. [Search for reports related to \"inventory\"](#get-crawled-tables)\n",
    "\n",
    "> Please make sure you run [Imports and Global Variables](#imports) before executing anything else in this notebook. Also ensure you are authenticated by running [Get Access Token](#authentication).\n"
   ]
  },
  {
   "cell_type": "markdown",
   "id": "4886ddf3",
   "metadata": {},
   "source": [
    "## **Imports and Global Variables** <a id='imports'></a>\n",
    "\n",
    "> _**NOTE**_: Run this cell before any of the others\n",
    "\n",
    "- Imports packages and sets variables that will be used throughout the notebook\n",
    "\n",
    "- Update `sasserver` to your server url\n",
    "\n",
    "- You can change other variables to fit your use case. This will be used through out the exmaple."
   ]
  },
  {
   "cell_type": "code",
   "execution_count": 2,
   "id": "fdd1fa83",
   "metadata": {},
   "outputs": [],
   "source": [
    "import requests\n",
    "import json\n",
    "from datetime import datetime, timedelta\n",
    "\n",
    "sasserver = \"https://your_server_url\"\n",
    "username = 'your_username'\n",
    "password = 'your_password'\n",
    "\n",
    "cas_library = 'Samples'\n",
    "cas_table_name = 'WATER_CLUSTER'"
   ]
  },
  {
   "cell_type": "markdown",
   "id": "4e142ca7",
   "metadata": {},
   "source": [
    "## Get Access Token <a id='authentication'></a>\n",
    "\n",
    "- This gets and sets the `access_token` that will be used for the current section\n",
    "\n",
    "- Run this periodically/as needed because sometimes, the authentication may expire after a certain amount of time\n"
   ]
  },
  {
   "cell_type": "code",
   "execution_count": null,
   "id": "b46bb498",
   "metadata": {},
   "outputs": [],
   "source": [
    "url = f\"{sasserver}/SASLogon/oauth/token\"\n",
    "\n",
    "payload = {\n",
    "    'grant_type': 'password',\n",
    "    'username': username,\n",
    "    'password': password\n",
    "}\n",
    "\n",
    "headers = {\n",
    "    'Authorization': 'Basic c2FzLmVjOg=='\n",
    "}\n",
    "\n",
    "response = requests.post(url, headers=headers, data=payload,verify=False)\n",
    "\n",
    "if response.status_code == 200:\n",
    "    access_token = 'Bearer ' + response.json()[\"access_token\"]\n",
    "    duration = round(int(response.json()['expires_in']) / 60)\n",
    "    valid_until = datetime.now() + timedelta(minutes=duration)\n",
    "    print(f\"access_token is: {access_token}\")\n",
    "    print(f\"This token will be valid until: {valid_until}\")\n",
    "else:\n",
    "    print('Authentication failed')"
   ]
  },
  {
   "cell_type": "markdown",
   "id": "e2d89b40",
   "metadata": {},
   "source": [
    "## Search for facets related to Library <a id='find-facets'></a>"
   ]
  },
  {
   "cell_type": "code",
   "execution_count": null,
   "id": "c98f47a3",
   "metadata": {},
   "outputs": [],
   "source": [
    "url = f\"{sasserver}/catalog/search/facets?q=Library\"\n",
    "headers = {\n",
    "  'Authorization': access_token\n",
    "}\n",
    "\n",
    "response = requests.get(url, headers=headers, data=payload, verify=False)\n",
    "print(json.dumps(response.json(), indent=4))"
   ]
  },
  {
   "cell_type": "markdown",
   "id": "3f9aea9d",
   "metadata": {},
   "source": [
    "## Get CAS library with facet Library.name <a id='use-facets'></a>"
   ]
  },
  {
   "cell_type": "code",
   "execution_count": null,
   "id": "5932e3f6",
   "metadata": {},
   "outputs": [],
   "source": [
    "url = f\"{sasserver}/catalog/search?q=Library.name:'{cas_library}'&indices=datasets\"\n",
    "headers = {\n",
    "  'Authorization': access_token\n",
    "}\n",
    "\n",
    "response = requests.get(url, headers=headers, data=None, verify=False)\n",
    "\n",
    "responseBody = response.json()\n",
    "print(json.dumps(responseBody, indent=4))\n",
    "    "
   ]
  },
  {
   "cell_type": "markdown",
   "id": "a2be1af7",
   "metadata": {},
   "source": [
    "## Get data sets with fuzzy search <a id='get-tables'></a>"
   ]
  },
  {
   "cell_type": "code",
   "execution_count": null,
   "id": "ebe296a4",
   "metadata": {},
   "outputs": [],
   "source": [
    "url = f\"{sasserver}/catalog/search?q={cas_table_name}&indices=datasets\"\n",
    "headers = {\n",
    "  'Authorization': access_token\n",
    "}\n",
    "\n",
    "response = requests.get(url, headers=headers, data=None, verify=False)\n",
    "\n",
    "responseBody = response.json()\n",
    "print(json.dumps(responseBody, indent=4))"
   ]
  },
  {
   "cell_type": "markdown",
   "id": "eb69c2f2",
   "metadata": {},
   "source": [
    "## Get the 'datesets' search indices <a id='get-index'></a>"
   ]
  },
  {
   "cell_type": "code",
   "execution_count": null,
   "id": "b50988b1",
   "metadata": {},
   "outputs": [],
   "source": [
    "url = f\"{sasserver}/catalog/search/indices?filter=eq(name,'datasets')\"\n",
    "headers = {\n",
    "    'Authorization': access_token\n",
    "}\n",
    "response = requests.get(url, headers=headers, data=None, verify=False)\n",
    "print(json.dumps(response.json(), indent=4))"
   ]
  },
  {
   "cell_type": "markdown",
   "id": "b1d7c986",
   "metadata": {},
   "source": [
    "## Get list of suggestions for 'Name' facet within the datasets index <a id='get-suggestions'></a>"
   ]
  },
  {
   "cell_type": "code",
   "execution_count": null,
   "id": "fdbbac6a",
   "metadata": {},
   "outputs": [],
   "source": [
    "url = f\"{sasserver}/catalog/search/suggestions?facet=Name&indices=datasets&q=\"\n",
    "headers = {\n",
    "    'Authorization': access_token\n",
    "}\n",
    "response = requests.get(url, headers=headers, data=None, verify=False)\n",
    "print(json.dumps(response.json(), indent=4))\n",
    "    "
   ]
  },
  {
   "cell_type": "markdown",
   "id": "b033cd8a",
   "metadata": {},
   "source": [
    "## Search for tables whose names contain 'WARRANTY' and were updated on the previous day<a id='get-last-updated'></a>"
   ]
  },
  {
   "cell_type": "code",
   "execution_count": null,
   "id": "652314bc",
   "metadata": {},
   "outputs": [],
   "source": [
    "yesterday = (datetime.now() - timedelta(days=1)).strftime(\"%Y-%m-%d\")\n",
    "today = datetime.today().strftime(\"%Y-%m-%d\")\n",
    "url = f\"{sasserver}/catalog/search?indices=datasets&q=DateModified:[{yesterday} TO {today}]+Name:WARRANTY\"\n",
    "print(url)\n",
    "headers = {\n",
    "    'Authorization': access_token\n",
    "}\n",
    "response = requests.get(url, headers=headers, data=None, verify=False)\n",
    "print(json.dumps(response.json(), indent=4))\n",
    "    "
   ]
  },
  {
   "cell_type": "markdown",
   "id": "708020ef",
   "metadata": {},
   "source": [
    "## Find all crawled tables that contain columns classified as Date <a id='get-crawled-tables'></a>"
   ]
  },
  {
   "cell_type": "code",
   "execution_count": null,
   "id": "f30af307",
   "metadata": {},
   "outputs": [],
   "source": [
    "url = f\"{sasserver}/catalog/search?indices=datasets&q=Column.semanticType:'date'\"\n",
    "headers = {\n",
    "    'Authorization': access_token\n",
    "}\n",
    "response = requests.get(url, headers=headers, data=None, verify=False)\n",
    "print(json.dumps(response.json(), indent=4))\n",
    "    "
   ]
  },
  {
   "cell_type": "markdown",
   "id": "69f61714",
   "metadata": {},
   "source": [
    "## Search for reports related to \"inventory\" <a id='get-crawled-tables'></a>"
   ]
  },
  {
   "cell_type": "code",
   "execution_count": null,
   "id": "32dc5bc4",
   "metadata": {},
   "outputs": [],
   "source": [
    "url = f\"{sasserver}/catalog/search?q=inventory&indices=reports\"\n",
    "headers = {\n",
    "    'Authorization': access_token\n",
    "}\n",
    "response = requests.get(url, headers=headers, data=None, verify=False)\n",
    "print(json.dumps(response.json(), indent=4))"
   ]
  }
 ],
 "metadata": {
  "kernelspec": {
   "display_name": "Python 3",
   "language": "python",
   "name": "python3"
  },
  "language_info": {
   "codemirror_mode": {
    "name": "ipython",
    "version": 3
   },
   "file_extension": ".py",
   "mimetype": "text/x-python",
   "name": "python",
   "nbconvert_exporter": "python",
   "pygments_lexer": "ipython3",
   "version": "3.11.5"
  }
 },
 "nbformat": 4,
 "nbformat_minor": 5
}
