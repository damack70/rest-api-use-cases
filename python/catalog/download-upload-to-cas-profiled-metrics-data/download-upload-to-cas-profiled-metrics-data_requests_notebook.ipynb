{
 "cells": [
  {
   "cell_type": "markdown",
   "id": "cd3b1161",
   "metadata": {},
   "source": [
    "\n",
    "# API Requests from Postman Collection\n",
    "This notebook contains API requests extracted from the provided Postman collection.\n"
   ]
  },
  {
   "cell_type": "code",
   "execution_count": null,
   "id": "b46bb498",
   "metadata": {},
   "outputs": [],
   "source": [
    "\n",
    "# 0. /SASLogon/oauth/token\n",
    "import requests\n",
    "import json\n",
    "import urllib3\n",
    "# Disable all warnings from urllib3\n",
    "urllib3.disable_warnings()\n",
    "\n",
    "sasserver = \"https://your_server\"\n",
    "payload = {\n",
    "    'grant_type': 'password',\n",
    "    'username': 'your_username',\n",
    "    'password': 'your_password'\n",
    "}\n",
    "\n",
    "url = f\"{sasserver}/SASLogon/oauth/token\"\n",
    "headers = {'Authorization': 'Basic c2FzLmVjOg=='}\n",
    "response = requests.post(url, headers=headers, data=payload,verify=False)\n",
    "access_token = response.json()[\"access_token\"]\n",
    "\n",
    "print(json.dumps(response.json(), indent=4))"
   ]
  },
  {
   "cell_type": "code",
   "execution_count": null,
   "id": "c98f47a3",
   "metadata": {},
   "outputs": [],
   "source": [
    "\n",
    "# 1. Create Discovery Agent\n",
    "url = f\"{sasserver}/catalog/bots\"\n",
    "headers = {\n",
    "  'Content-Type': 'application/json',\n",
    "  'Authorization': 'Bearer ' + access_token\n",
    "}\n",
    "\n",
    "payload = json.dumps({\n",
    "    \"provider\": \"TABLE-BOT\",\n",
    "    \"name\": \"Crawl Samples Use Case (CAS)\",\n",
    "    \"description\": \"Crawl the Samples caslib\",\n",
    "    \"parameters\": {\n",
    "    \t\"datasourceURI\": \"/dataSources/providers/cas/sources/cas-shared-default~fs~Samples\",\n",
    "        \"region\": \"US NC\"\n",
    "    }\n",
    "})\n",
    "\n",
    "response = requests.post(url, headers=headers, data=payload, verify=False)\n",
    "botId = response.json()[\"id\"]\n",
    "print(json.dumps(response.json(), indent=4))\n",
    "\n",
    "    "
   ]
  },
  {
   "cell_type": "code",
   "execution_count": null,
   "id": "5932e3f6",
   "metadata": {},
   "outputs": [],
   "source": [
    "\n",
    "# 2. Run Discovery Agent\n",
    "url = f\"{sasserver}/catalog/bots/{botId}/state?value=running\"\n",
    "headers = {\n",
    "  'Accept': 'text/plain',\n",
    "  'Authorization': 'Bearer ' + access_token\n",
    "}\n",
    "\n",
    "response = requests.put(url, headers=headers, data=None, verify=False)\n",
    "print(response.text)\n",
    "    "
   ]
  },
  {
   "cell_type": "code",
   "execution_count": null,
   "id": "ebe296a4",
   "metadata": {},
   "outputs": [],
   "source": [
    "\n",
    "# 3. Discovery Agent state\n",
    "import time\n",
    "url = f\"{sasserver}/catalog/bots/{botId}/state\"\n",
    "response = requests.get(url, headers=headers, data=None, verify=False)\n",
    "start_time = time.time()\n",
    "\n",
    "while response.text != 'idle':\n",
    "    response = requests.get(url, headers=headers, data=None, verify=False)\n",
    "    print(response.text)\n",
    "    time.sleep(5)\n",
    "end_time = time.time()\n",
    "\n",
    "print(f\"Agent took {round(end_time - start_time)}s to run\")\n",
    "    "
   ]
  },
  {
   "cell_type": "code",
   "execution_count": null,
   "id": "b50988b1",
   "metadata": {},
   "outputs": [],
   "source": [
    "\n",
    "# 4. Discovery Agent\n",
    "url = f\"{sasserver}/catalog/bots/{botId}\"\n",
    "headers = {\n",
    "    'Accept': 'application/vnd.sas.metadata.bot.summary+json',\n",
    "    'Authorization': 'Bearer ' + access_token\n",
    "}\n",
    "response = requests.get(url, headers=headers, data=None, verify=False)\n",
    "print(json.dumps(response.json(), indent=4))\n",
    "    "
   ]
  },
  {
   "cell_type": "code",
   "execution_count": null,
   "id": "fdbbac6a",
   "metadata": {},
   "outputs": [],
   "source": [
    "\n",
    "# 5. Download dataDictionary filtered by name with prefix\n",
    "url = f\"{sasserver}/catalog/instances?filter=contains(name,COST)&level=dataDictionary&prefix=simpledownload\"\n",
    "headers = {\n",
    "    'Accept': 'text/csv',\n",
    "    'Authorization': 'Bearer ' + access_token\n",
    "}\n",
    "response = requests.get(url, headers=headers, data=None, verify=False)\n",
    "print(response.text)    "
   ]
  },
  {
   "cell_type": "code",
   "execution_count": null,
   "id": "652314bc",
   "metadata": {},
   "outputs": [],
   "source": [
    "\n",
    "# 6. Download dataDictionary, multiple tables filtered by name with prefix\n",
    "url = f\"{sasserver}/catalog/instances/?filter=or(contains(name,COST),contains(name,WARRANTY))&level=dataDictionary&prefix=multipletables\"\n",
    "headers = {\n",
    "    'Accept': 'text/csv',\n",
    "    'Authorization': 'Bearer ' + access_token\n",
    "}\n",
    "response = requests.get(url, headers=headers, data=None, verify=False)\n",
    "print(response.text)   "
   ]
  },
  {
   "cell_type": "code",
   "execution_count": null,
   "id": "472e8af2",
   "metadata": {},
   "outputs": [],
   "source": [
    "# 7. Download dataDictionary, filtered by name, prefix and dateTimeStampSuffix set to false\n",
    "\n",
    "url = f\"{sasserver}/catalog/instances/?filter=or(contains(name,COST),contains(name,WARRANTY))&level=dataDictionary&prefix=multipletables_nodatetimesuffix&dateTimeStampSuffix=false\"\n",
    "\n",
    "headers = {'Accept': 'text/csv',  'Authorization': 'Bearer ' + access_token}\n",
    "response = requests.get(url, headers=headers,data=None, verify=False)\n",
    "print(response.status_code)\n",
    "print(response.text)"
   ]
  },
  {
   "cell_type": "code",
   "execution_count": null,
   "id": "007704d0",
   "metadata": {},
   "outputs": [],
   "source": [
    "# 8. Upload dataDictionary to CAS filtered by name with prefix\n",
    "\n",
    "url = f\"{sasserver}/catalog/instances/?filter=contains(name,COST)\"\n",
    "\n",
    "headers = {'Authorization': 'Bearer ' + access_token, 'Content-Type': 'application/vnd.sas.metadata.instance.upload.request+json', 'Accept': 'application/vnd.sas.metadata.instance.upload.request+json'}\n",
    "# Replace placeholders in the body with actual values\n",
    "data = '''{\n",
    "    \"level\": \"dataDictionary\",\n",
    "    \"prefix\": \"dataDictionary_cost_table_upload\",\n",
    "    \"dateTimeStampSuffix\": true,\n",
    "    \"serverName\": \"cas-shared-default\",\n",
    "    \"caslibName\": \"Public\"\n",
    "}'''\n",
    "response = requests.post(url, headers=headers, data=data,verify=False)\n",
    "print(response.status_code)\n",
    "print(response.text)\n"
   ]
  },
  {
   "cell_type": "code",
   "execution_count": null,
   "id": "57db10c4",
   "metadata": {},
   "outputs": [],
   "source": [
    "# 9. Download detailedMetrics filtered by name with prefix\n",
    "\n",
    "url = f\"{sasserver}/catalog/instances/?filter=contains(name,COST)&level=detailedMetrics&prefix=detailedmetrics_costTable\"\n",
    "\n",
    "headers = {'Accept': 'text/csv','Authorization': 'Bearer ' + access_token}\n",
    "response = requests.get(url, headers=headers,verify=False)\n",
    "print(response.status_code)\n",
    "print(response.text)\n"
   ]
  },
  {
   "cell_type": "code",
   "execution_count": null,
   "id": "af6de40e",
   "metadata": {},
   "outputs": [],
   "source": [
    "# 10. Upload detailedMetrics to CAS filtered by name with prefix\n",
    "# Replace placeholders in the URL with actual values\n",
    "url = f\"{sasserver}/catalog/instances/?filter=contains(name,COST)\"\n",
    "# Replace placeholders in the headers with actual values\n",
    "headers = {  'Authorization': 'Bearer ' + access_token,'Content-Type': 'application/vnd.sas.metadata.instance.upload.request+json', 'Accept': 'application/vnd.sas.metadata.instance.upload.request+json'}\n",
    "# Replace placeholders in the body with actual values\n",
    "data = '''{\n",
    "    \"level\": \"detailedMetrics\",\n",
    "    \"prefix\": \"detailedMetrics_cost_table_upload\",\n",
    "    \"dateTimeStampSuffix\": true,\n",
    "    \"serverName\": \"cas-shared-default\",\n",
    "    \"caslibName\": \"Public\"\n",
    "}'''\n",
    "response = requests.post(url, headers=headers, data=data,verify=False)\n",
    "print(response.status_code)\n",
    "print(response.text)"
   ]
  },
  {
   "cell_type": "code",
   "execution_count": null,
   "id": "a4793643",
   "metadata": {},
   "outputs": [],
   "source": [
    "# 11. Download profile Metrics filtered by name with prefix\n",
    "# Replace placeholders in the URL with actual values\n",
    "url = f\"{sasserver}/catalog/instances?filter=contains(name,COST)&level=dataDictionaryAndProfile\"\n",
    "# Replace placeholders in the headers with actual values\n",
    "headers = {'Authorization': 'Bearer ' + access_token, 'Content-Type': 'application/vnd.sas.metadata.instance.upload.request+json', 'Accept': 'text/csv'}\n",
    "response = requests.get(url, headers=headers,verify=False)\n",
    "print(response.status_code)\n",
    "print(response.text)"
   ]
  },
  {
   "cell_type": "code",
   "execution_count": null,
   "id": "e3bc53a7",
   "metadata": {},
   "outputs": [],
   "source": [
    "# 12. Upload profileMetrics to CAS with filter all data in the Samples discovery agent crawled library\n",
    "# Replace placeholders in the URL with actual values\n",
    "url = f\"{sasserver}/catalog/instances?filter=contains(resourceId,'cas~fs~cas-shared-default~fs~Samples')\"\n",
    "# Replace placeholders in the headers with actual values\n",
    "headers = {  'Authorization': 'Bearer ' + access_token,'Content-Type': 'application/vnd.sas.metadata.instance.upload.request+json', 'Accept': 'application/vnd.sas.metadata.instance.upload.request+json'}\n",
    "# Replace placeholders in the body with actual values\n",
    "data = '''{\n",
    "    \"level\": \"dataDictionaryAndProfile\",\n",
    "    \"prefix\": \"dataDictionaryAndProfile_all_Samples_table_upload\",\n",
    "    \"dateTimeStampSuffix\": true,\n",
    "    \"serverName\": \"cas-shared-default\",\n",
    "    \"caslibName\": \"Public\"\n",
    "}'''\n",
    "response = requests.post(url, headers=headers, data=data, verify=False)\n",
    "print(response.status_code)\n",
    "print(response.text)"
   ]
  },
  {
   "cell_type": "code",
   "execution_count": null,
   "id": "32dc5bc4",
   "metadata": {},
   "outputs": [],
   "source": [
    "\n",
    "# 13. Delete Discovery Agent\n",
    "url = f\"{sasserver}/catalog/bots/{botId}\"\n",
    "headers = {\n",
    "    'Authorization': 'Bearer ' + access_token\n",
    "}\n",
    "response = requests.delete(url, headers=headers, data=None, verify=False)\n",
    "print(response.text)\n",
    "    "
   ]
  }
 ],
 "metadata": {
  "kernelspec": {
   "display_name": "Python 3 (ipykernel)",
   "language": "python",
   "name": "python3"
  },
  "language_info": {
   "codemirror_mode": {
    "name": "ipython",
    "version": 3
   },
   "file_extension": ".py",
   "mimetype": "text/x-python",
   "name": "python",
   "nbconvert_exporter": "python",
   "pygments_lexer": "ipython3",
   "version": "3.10.4"
  }
 },
 "nbformat": 4,
 "nbformat_minor": 5
}
