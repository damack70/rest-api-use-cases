{
 "cells": [
  {
   "cell_type": "markdown",
   "metadata": {},
   "source": [
    "# Job Execution"
   ]
  },
  {
   "cell_type": "markdown",
   "metadata": {},
   "source": [
    "## Authentication -- optional step\n",
    "If you have registered a client (see the authentidation use case), uncomment the code below to generate an access token."
   ]
  },
  {
   "cell_type": "code",
   "execution_count": null,
   "metadata": {},
   "outputs": [],
   "source": [
    "# import requests, json, base64\n",
    "# sasserver = \"\"\n",
    "# username = \"\"\n",
    "# password = \"\"\n",
    "# client_id = \"\"\n",
    "# client_secret = \"\"\n",
    "# url = sasserver + \"/SASLogon/oauth/token\"\n",
    "# data = {\n",
    "#     'grant_type': 'password',\n",
    "#     'username': username,\n",
    "#     'password': password\n",
    "# }\n",
    "# headers = {'Accept': 'application/json'}\n",
    "# response = requests.post(url, headers=headers, data=data, auth=(client_id, client_secret), verify=False).json()\n",
    "# access_token = response[\"access_token\"]\n",
    "# print(\"The access token is: \" + access_token)"
   ]
  },
  {
   "cell_type": "markdown",
   "metadata": {},
   "source": [
    "## Import modules, variable assignment\n",
    "The first step of the process is to import the required packages and assign variable values."
   ]
  },
  {
   "cell_type": "code",
   "execution_count": null,
   "metadata": {},
   "outputs": [],
   "source": [
    "import requests\n",
    "import json\n",
    "\n",
    "# Variables to assign\n",
    "sasserver = \"\"\n",
    "folder = \"Public\"\n",
    "access_token = \"\""
   ]
  },
  {
   "cell_type": "markdown",
   "metadata": {},
   "source": [
    "## Get Public Folder (or directory of your choice)"
   ]
  },
  {
   "cell_type": "code",
   "execution_count": null,
   "metadata": {},
   "outputs": [],
   "source": [
    "url = sasserver+\"/folders/folders?filter=eq(name,\"+folder+\")\"\n",
    "\n",
    "payload={}\n",
    "headers = {\n",
    "  'Authorization': 'Bearer ' + access_token\n",
    "}\n",
    "\n",
    "response = requests.request(\"GET\", url, headers=headers, data=payload, verify=False).json()\n",
    "\n",
    "folder_id = response[\"items\"][0][\"id\"]\n",
    "\n",
    "print(folder_id)"
   ]
  },
  {
   "cell_type": "markdown",
   "metadata": {},
   "source": [
    "## Create Folder"
   ]
  },
  {
   "cell_type": "code",
   "execution_count": null,
   "metadata": {},
   "outputs": [],
   "source": [
    "url = sasserver+\"/folders/folders?parentFolderUri=/folders/folders/\"+folder_id\n",
    "\n",
    "payload=\"{\\n  \\\"name\\\": \\\"API Job Exec Python\\\",\\n  \\\"description\\\": \\\"My API tests folder.\\\",\\n  \\\"type\\\": \\\"folder\\\"\\n}\"\n",
    "headers = {\n",
    "  'Content-Type': 'application/vnd.sas.content.folder+json',\n",
    "  'Accept': 'application/vnd.sas.content.folder+json',\n",
    "  'Authorization': 'Bearer ' + access_token\n",
    "}\n",
    "\n",
    "response = requests.request(\"POST\", url, headers=headers, data=payload, verify=False).json()\n",
    "\n",
    "parentFolder = response[\"id\"]\n",
    "\n",
    "print(parentFolder)"
   ]
  },
  {
   "cell_type": "markdown",
   "metadata": {},
   "source": [
    "## Create Job Definition"
   ]
  },
  {
   "cell_type": "code",
   "execution_count": null,
   "metadata": {},
   "outputs": [],
   "source": [
    "url = sasserver+\"/jobDefinitions/definitions?parentFolderUri=/folders/folders/\"+parentFolder\n",
    "\n",
    "payload=\"{\\n\\\"version\\\":2,\\n\\\"name\\\":\\\"Simple proc print\\\",\\n\\\"description\\\": \\\n",
    "\\\"Show the contents of sashelp.class using PROC PRINT\\\",\\n\\\"type\\\":\\\"Compute\\\", \\\n",
    "\\n\\\"parameters\\\":[\\n{\\n\\\"version\\\": 1,\\n\\\"name\\\":\\\"_contextName\\\",\\n\\\"defaultValue\\\": \\\n",
    "\\\"SAS Job Execution compute context\\\",\\n\\\"type\\\":\\\"CHARACTER\\\",\\n\\\"label\\\":\\\"Context Name\\\",\\n \\\n",
    "\\\"required\\\": false\\n}\\n],\\n\\\"code\\\":\\\"ods html style=HTMLBlue;\\\\nproc print data=sashelp.class; run; quit;\\\\nods \\\n",
    "html close;\\\"\\n}\"\n",
    "headers = {\n",
    "  'Authorization': 'Bearer ' + access_token,\n",
    "  'Content-Type': 'application/json'\n",
    "}\n",
    "\n",
    "response = requests.request(\"POST\", url, headers=headers, data=payload, verify=False).json()\n",
    "\n",
    "jobDef = response[\"id\"]\n",
    "\n",
    "print(jobDef)"
   ]
  },
  {
   "cell_type": "markdown",
   "metadata": {},
   "source": [
    "## Get Job Definition - just verifying Job was created"
   ]
  },
  {
   "cell_type": "code",
   "execution_count": null,
   "metadata": {},
   "outputs": [],
   "source": [
    "url = sasserver+\"/jobDefinitions/definitions/\"+jobDef\n",
    "\n",
    "payload={}\n",
    "headers = {\n",
    "  'Authorization': 'Bearer ' + access_token\n",
    "}\n",
    "\n",
    "response = requests.request(\"GET\", url, headers=headers, data=payload, verify=False).json()\n",
    "\n",
    "defId = response[\"id\"]\n",
    "\n",
    "print(defId)"
   ]
  },
  {
   "cell_type": "markdown",
   "metadata": {},
   "source": [
    "## Submit Job Execution"
   ]
  },
  {
   "cell_type": "code",
   "execution_count": null,
   "metadata": {},
   "outputs": [],
   "source": [
    "url = sasserver+\"/jobExecution/jobs\"\n",
    "\n",
    "payload={\"name\": \"Hello World Execution\",\n",
    "         \"description\": \"Execution of the job we previously created\",\n",
    "         \"jobDefinitionUri\": \"/jobDefinitions/definitions/\" + defId\n",
    "        }\n",
    "\n",
    "headers = {\n",
    "  'Authorization': 'Bearer ' + access_token,\n",
    "  'Content-Type': 'application/json'\n",
    "}\n",
    "\n",
    "response = requests.request(\"POST\", url, headers=headers, data=json.dumps(payload), verify=False).json()\n",
    "\n",
    "execution_id = response[\"id\"]\n",
    "\n",
    "print(execution_id)"
   ]
  },
  {
   "cell_type": "markdown",
   "metadata": {},
   "source": [
    "## Get Job Execution State"
   ]
  },
  {
   "cell_type": "code",
   "execution_count": null,
   "metadata": {},
   "outputs": [],
   "source": [
    "# Re-run this step until \"completed\" state is returned\n",
    "\n",
    "url = sasserver+\"/jobExecution/jobs/\"+execution_id+\"/state\"\n",
    "\n",
    "payload={}\n",
    "\n",
    "headers = {\n",
    "  'Authorization': 'Bearer ' + access_token\n",
    "}\n",
    "\n",
    "response = requests.request(\"GET\", url, headers=headers, data=payload, verify=False)\n",
    "\n",
    "print(response.text)"
   ]
  },
  {
   "cell_type": "markdown",
   "metadata": {},
   "source": [
    "## Get Job Execution Files"
   ]
  },
  {
   "cell_type": "code",
   "execution_count": null,
   "metadata": {},
   "outputs": [],
   "source": [
    "# Do not run this step until state = \"completed\" is returned in the previous call\n",
    "\n",
    "url = sasserver+\"/jobExecution/jobs/\"+execution_id\n",
    "\n",
    "payload={}\n",
    "headers = {\n",
    "  'Authorization': 'Bearer ' + access_token\n",
    "}\n",
    "\n",
    "response = requests.request(\"GET\", url, headers=headers, data=payload, verify=False).json()\n",
    "\n",
    "print(response)\n",
    "\n",
    "files_location = response[\"results\"][\"sashtml.htm\"]\n",
    "# folder_id = response[\"items\"][0][\"id\"]\n",
    "\n",
    "\n",
    "print(\"HTML file location: \" + files_location)"
   ]
  },
  {
   "cell_type": "markdown",
   "metadata": {},
   "source": [
    "## Get Execution Results"
   ]
  },
  {
   "cell_type": "code",
   "execution_count": null,
   "metadata": {},
   "outputs": [],
   "source": [
    "url = sasserver+files_location+\"/content\"\n",
    "\n",
    "payload={}\n",
    "headers = {\n",
    "  'Authorization': 'Bearer ' + access_token\n",
    "}\n",
    "\n",
    "response = requests.request(\"GET\", url, headers=headers, data=payload, verify=False)\n",
    "\n",
    "print(response.text)"
   ]
  },
  {
   "cell_type": "code",
   "execution_count": null,
   "metadata": {},
   "outputs": [],
   "source": []
  }
 ],
 "metadata": {
  "kernelspec": {
   "display_name": "Python 3",
   "language": "python",
   "name": "python3"
  },
  "language_info": {
   "codemirror_mode": {
    "name": "ipython",
    "version": 3
   },
   "file_extension": ".py",
   "mimetype": "text/x-python",
   "name": "python",
   "nbconvert_exporter": "python",
   "pygments_lexer": "ipython3",
   "version": "3.7.4"
  }
 },
 "nbformat": 4,
 "nbformat_minor": 5
}
