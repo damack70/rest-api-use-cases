{
 "cells": [
  {
   "cell_type": "markdown",
   "metadata": {},
   "source": [
    "# Execute SAS Code"
   ]
  },
  {
   "cell_type": "markdown",
   "metadata": {},
   "source": [
    "## Authentication -- optional step\n",
    "If you have registered a client (see the authentication use case), uncomment the code below to generate an access token."
   ]
  },
  {
   "cell_type": "code",
   "execution_count": null,
   "metadata": {},
   "outputs": [],
   "source": [
    "# import requests, json, base64\n",
    "# sasserver = \"\"\n",
    "# username = \"\"\n",
    "# password = \"\"\n",
    "# client_id = \"\"\n",
    "# client_secret = \"\"\n",
    "# url = sasserver + \"/SASLogon/oauth/token\"\n",
    "# data = {\n",
    "#     'grant_type': 'password',\n",
    "#     'username': username,\n",
    "#     'password': password\n",
    "# }\n",
    "# headers = {'Accept': 'application/json'}\n",
    "# response = requests.post(url, headers=headers, data=data, auth=(client_id, client_secret), verify=False).json()\n",
    "# access_token = response[\"access_token\"]\n",
    "# print(\"The access token is: \" + access_token)"
   ]
  },
  {
   "cell_type": "markdown",
   "metadata": {},
   "source": [
    "## Import modules, variable assignment\n",
    "The first step of the process is to import the required packages and assign variable values."
   ]
  },
  {
   "cell_type": "code",
   "execution_count": null,
   "metadata": {},
   "outputs": [],
   "source": [
    "import requests as request\n",
    "import json\n",
    "import time\n",
    "\n",
    "# Variables\n",
    "sasserver = \"\"\n",
    "access_token = \"\"\n",
    "job_url = \"\"# sample job_url for a Job titled Simple proc print: https://mysasserver.sas.com/SASJobExecution/?_program=/Public/API%20Job%20Exec%20Python/Simple%20proc%20print"
   ]
  },
  {
   "cell_type": "markdown",
   "metadata": {},
   "source": [
    "## Submit Job"
   ]
  },
  {
   "cell_type": "code",
   "execution_count": null,
   "metadata": {},
   "outputs": [],
   "source": [
    "# url = sasserver + job_url + '&_action=json&_resultfile=*&_omittextlog=false'\n",
    "url = job_url + '&_action=json&_resultfile=*&_omittextlog=false'\n",
    "\n",
    "headers = {\n",
    "    'Authorization': 'bearer ' + access_token,\n",
    "    'Content-Type': 'application/vnd.sas.job.execution.job.request',\n",
    "    'Accept': 'application/vnd.sas.job.execution.job'\n",
    "}\n",
    "\n",
    "r = request.post(url, headers=headers, verify=False).json()\n",
    "print(r)"
   ]
  },
  {
   "cell_type": "markdown",
   "metadata": {},
   "source": [
    "## Construct url to retrieve log and output table"
   ]
  },
  {
   "cell_type": "code",
   "execution_count": null,
   "metadata": {},
   "outputs": [],
   "source": [
    "log_uri = sasserver + r['items'][1]['href']\n",
    "output_uri = sasserver + r['items'][2]['href']\n",
    "print(log_uri)\n",
    "print(output_uri)"
   ]
  },
  {
   "cell_type": "markdown",
   "metadata": {},
   "source": [
    "## Generate log file"
   ]
  },
  {
   "cell_type": "code",
   "execution_count": null,
   "metadata": {},
   "outputs": [],
   "source": [
    "log_str = request.get(log_uri, headers=headers, verify=False).text\n",
    "\n",
    "filename = \"Log_\"+time.strftime(\"%Y%m%d-%H%M%S\")+\".txt\"\n",
    "\n",
    "with open(filename, \"w\") as log:\n",
    "    log.write(log_str)\n",
    "# print(log_str) # optional print statement, if you'd like to see the content of the log file"
   ]
  },
  {
   "cell_type": "markdown",
   "metadata": {},
   "source": [
    "## Generate output table(s) file"
   ]
  },
  {
   "cell_type": "code",
   "execution_count": null,
   "metadata": {},
   "outputs": [],
   "source": [
    "output_str = request.get(output_uri, headers=headers, verify=False).text\n",
    "\n",
    "filename = \"Output_\"+time.strftime(\"%Y%m%d-%H%M%S\")+\".html\"\n",
    "\n",
    "with open(filename, \"w\") as output_html:\n",
    "    output_html.write(output_str)\n",
    "# print(output_str) # optional print statement, if you'd like to see the content of the output file"
   ]
  },
  {
   "cell_type": "code",
   "execution_count": null,
   "metadata": {},
   "outputs": [],
   "source": []
  }
 ],
 "metadata": {
  "kernelspec": {
   "display_name": "Python 3",
   "language": "python",
   "name": "python3"
  },
  "language_info": {
   "codemirror_mode": {
    "name": "ipython",
    "version": 3
   },
   "file_extension": ".py",
   "mimetype": "text/x-python",
   "name": "python",
   "nbconvert_exporter": "python",
   "pygments_lexer": "ipython3",
   "version": "3.7.4"
  }
 },
 "nbformat": 4,
 "nbformat_minor": 4
}
