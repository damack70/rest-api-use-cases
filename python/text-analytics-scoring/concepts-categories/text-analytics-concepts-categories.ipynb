{
 "cells": [
  {
   "cell_type": "markdown",
   "metadata": {},
   "source": [
    "# Text Analytics Concepts and Categories"
   ]
  },
  {
   "cell_type": "markdown",
   "metadata": {},
   "source": [
    "## Authentication -- optional step\n",
    "If you have registered a client (see the authentication use case), uncomment the code below to generate an access token."
   ]
  },
  {
   "cell_type": "code",
   "execution_count": null,
   "metadata": {},
   "outputs": [],
   "source": [
    "# import requests, json, base64\n",
    "# sasserver = \"\"\n",
    "# username = \"\"\n",
    "# password = \"\"\n",
    "# client_id = \"\"\n",
    "# client_secret = \"\"\n",
    "# url = sasserver + \"/SASLogon/oauth/token\"\n",
    "# data = {\n",
    "#     'grant_type': 'password',\n",
    "#     'username': username,\n",
    "#     'password': password\n",
    "# }\n",
    "# headers = {'Accept': 'application/json'}\n",
    "# response = requests.post(url, headers=headers, data=data, auth=(client_id, client_secret), verify=False).json()\n",
    "# access_token = response[\"access_token\"]\n",
    "# print(\"The access token is: \" + access_token)"
   ]
  },
  {
   "cell_type": "markdown",
   "metadata": {},
   "source": [
    "## Import modules, variable assignment\n",
    "The first step of the process is to import the required packages and assign variable values."
   ]
  },
  {
   "cell_type": "code",
   "execution_count": null,
   "metadata": {},
   "outputs": [],
   "source": [
    "import requests\n",
    "import json\n",
    "\n",
    "## Variables to assign\n",
    "\n",
    "sasserver = \"\"\n",
    "tableToScore = \"\"\n",
    "modelCaslib = \"\" # example value Analytics_Project_23f163ba-474d-4c3f-864c-4f8f6474bf85\n",
    "modelConceptsTable = \"\" # example value 8ae8d5be7bfe2eec017c04c43f8c0000_CONCEPT_BINARY\n",
    "modelCategoriesTable = \"\" # example value 8ae8d5be7bfe2eec017c04c451190000_CATEGORY_BINARY\n",
    "access_token = \"\" # Get from the authentication project"
   ]
  },
  {
   "cell_type": "markdown",
   "metadata": {},
   "source": [
    "# Create functions"
   ]
  },
  {
   "cell_type": "markdown",
   "metadata": {},
   "source": [
    "## Create session to start making calls"
   ]
  },
  {
   "cell_type": "code",
   "execution_count": null,
   "metadata": {},
   "outputs": [],
   "source": [
    "def getSession(access_token, sasserver):\n",
    "\n",
    "   headers_sesh = {\n",
    "      \"Content-Type\": \"application/json\",\n",
    "      \"Authorization\": \"Bearer \" + access_token }\n",
    "\n",
    "   url = sasserver + '/cas-shared-default-http/cas/sessions'\n",
    "\n",
    "   try:\n",
    "      response = requests.post(url, headers=headers_sesh, verify=False).json()\n",
    "      return(response)\n",
    "   except requests.exceptions.RequestException as e:\n",
    "      return e"
   ]
  },
  {
   "cell_type": "markdown",
   "metadata": {},
   "source": [
    "## Run Concept Model"
   ]
  },
  {
   "cell_type": "code",
   "execution_count": null,
   "metadata": {},
   "outputs": [],
   "source": [
    "def callConceptModel(sessionId, access_token, sasserver, modelCaslib, modelConceptsTable):\n",
    "   headers_sesh = {\n",
    "      \"Accept\": \"application/json\",\n",
    "      \"Content-Type\": \"application/json\",\n",
    "      \"Authorization\": \"Bearer \" + access_token }\n",
    "\n",
    "   url = sasserver + '/cas-shared-default-http/cas/sessions/'+sessionId+'/actions/textRuleScore.applyConcept'\n",
    "\n",
    "   payload = \"{\\\"model\\\":{\\\"caslib\\\":\\\"\"+ modelCaslib +\"\\\", \\\"name\\\":\\\"\"+ modelConceptsTable +\"\\\"},\\r\\n\\\"table\\\":{\\\"caslib\\\":\\\"public\\\", \\\"name\\\":\\\"restaurant_reviews\\\"},\\r\\n\\\"docId\\\":\\\"Unique_ID\\\",\\r\\n\\\"text\\\":\\\"text\\\",\\r\\n\\\"casOut\\\":{\\\"caslib\\\":\\\"casuser\\\", \\\"name\\\":\\\"out_concepts\\\", \\\"replace\\\":\\\"true\\\"},\\r\\n\\\"factOut\\\":{\\\"caslib\\\":\\\"casuser\\\", \\\"name\\\":\\\"out_facts\\\", \\\"replace\\\":\\\"true\\\"}}\"\n",
    "\n",
    "   try:\n",
    "      r = requests.post(url, headers=headers_sesh, data=payload, verify=False).json()\n",
    "      return r\n",
    "   except requests.exceptions.RequestException as e:\n",
    "      return e"
   ]
  },
  {
   "cell_type": "markdown",
   "metadata": {},
   "source": [
    "## Run Categories Model"
   ]
  },
  {
   "cell_type": "code",
   "execution_count": null,
   "metadata": {},
   "outputs": [],
   "source": [
    "def callCategoriesModel(sessionId, access_token, sasserver, modelCaslib, modelCategoriesTable):\n",
    "   headers_sesh = {\n",
    "      \"Accept\": \"application/json\",\n",
    "      \"Content-Type\": \"application/json\",\n",
    "      \"Authorization\": \"Bearer \" + access_token }\n",
    "\n",
    "   url = sasserver + '/cas-shared-default-http/cas/sessions/'+sessionId+'/actions/textRuleScore.applyCategory'\n",
    "\n",
    "   payload = \"{\\\"model\\\":{\\\"caslib\\\":\\\"\"+ modelCaslib +\"\\\", \\\"name\\\":\\\"\"+ modelCategoriesTable +\"\\\"},\\r\\n\\\"table\\\":{\\\"caslib\\\":\\\"public\\\", \\\"name\\\":\\\"restaurant_reviews\\\"},\\r\\n\\\"docId\\\":\\\"Unique_ID\\\",\\r\\n\\\"text\\\":\\\"text\\\",\\r\\n\\\"casOut\\\":{\\\"caslib\\\":\\\"casuser\\\", \\\"name\\\":\\\"out_categories\\\", \\\"replace\\\":\\\"true\\\"},\\r\\n\\\"matchOut\\\":{\\\"caslib\\\":\\\"casuser\\\", \\\"name\\\":\\\"out_match\\\", \\\"replace\\\":\\\"true\\\"},\\r\\n\\\"modelOut\\\":{\\\"caslib\\\":\\\"casuser\\\", \\\"name\\\":\\\"out_model\\\", \\\"replace\\\":\\\"true\\\"}}\"\n",
    "\n",
    "   try:\n",
    "      r = requests.post(url, headers=headers_sesh, data=payload, verify=False).json()\n",
    "      return r\n",
    "   except requests.exceptions.RequestException as e:\n",
    "      return e"
   ]
  },
  {
   "cell_type": "markdown",
   "metadata": {},
   "source": [
    "## Get the data using the Fetch action"
   ]
  },
  {
   "cell_type": "code",
   "execution_count": null,
   "metadata": {},
   "outputs": [],
   "source": [
    "def getData(sasserver, sessionId, access_token, tblName):\n",
    "   url = sasserver + \"/cas-shared-default-http/cas/sessions/\" + sessionId + \"/actions/table.fetch\"\n",
    "\n",
    "   payload = \"{ \\\"table\\\": {\\\"caslib\\\":\\\"casuser\\\", \\\"name\\\":\\\"\" + tblName + \"\\\"} }\"\n",
    "\n",
    "   headers = {\n",
    "      'Authorization': \"Bearer \" + access_token,\n",
    "      'Content-Type': 'application/json'\n",
    "   }\n",
    "    \n",
    "   try:\n",
    "      response = requests.request(\"POST\", url, headers=headers, data = payload, verify=False).json()\n",
    "      return(response)\n",
    "   except requests.exceptions.RequestException as e:\n",
    "      return e"
   ]
  },
  {
   "cell_type": "markdown",
   "metadata": {},
   "source": [
    "# Run functions"
   ]
  },
  {
   "cell_type": "code",
   "execution_count": null,
   "metadata": {},
   "outputs": [],
   "source": [
    "# Get Session\n",
    "sessionId = getSession(access_token, sasserver)\n",
    "print(sessionId)"
   ]
  },
  {
   "cell_type": "code",
   "execution_count": null,
   "metadata": {},
   "outputs": [],
   "source": [
    "# Run Concepts Model\n",
    "concept_output = callConceptModel(sessionId[\"session\"], access_token, sasserver, modelCaslib, modelConceptsTable)\n",
    "print(concept_output)"
   ]
  },
  {
   "cell_type": "code",
   "execution_count": null,
   "metadata": {},
   "outputs": [],
   "source": [
    "# Get concept  data\n",
    "concepts_data = getData(sasserver, sessionId[\"session\"], access_token, \"OUT_CONCEPTS\")[\"results\"]\n",
    "concept_format = json.dumps(concepts_data, indent=2)\n",
    "print(concept_format)"
   ]
  },
  {
   "cell_type": "code",
   "execution_count": null,
   "metadata": {},
   "outputs": [],
   "source": [
    "# Run Categories Model\n",
    "categories_output = callCategoriesModel(sessionId[\"session\"], access_token, sasserver, modelCaslib, modelCategoriesTable)\n",
    "print(categories_output)"
   ]
  },
  {
   "cell_type": "code",
   "execution_count": null,
   "metadata": {},
   "outputs": [],
   "source": [
    "# Get Categories data\n",
    "categories_data = getData(sasserver, sessionId[\"session\"], access_token, \"out_model\")[\"results\"]\n",
    "categ_format = json.dumps(categories_data, indent=2)\n",
    "print(categ_format)"
   ]
  },
  {
   "cell_type": "code",
   "execution_count": null,
   "metadata": {},
   "outputs": [],
   "source": []
  }
 ],
 "metadata": {
  "kernelspec": {
   "display_name": "Python 3",
   "language": "python",
   "name": "python3"
  },
  "language_info": {
   "codemirror_mode": {
    "name": "ipython",
    "version": 3
   },
   "file_extension": ".py",
   "mimetype": "text/x-python",
   "name": "python",
   "nbconvert_exporter": "python",
   "pygments_lexer": "ipython3",
   "version": "3.7.4"
  }
 },
 "nbformat": 4,
 "nbformat_minor": 2
}
