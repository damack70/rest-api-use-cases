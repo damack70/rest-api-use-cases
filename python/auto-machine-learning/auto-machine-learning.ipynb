{
 "cells": [
  {
   "cell_type": "markdown",
   "metadata": {},
   "source": [
    "# Automated Machine Learning with SAS Viya MLPA API\n",
    "This example leverages the [MLPA API on SAS Viya](https://developer.sas.com/apis/rest/MachineLearningPipeline/) to perform automated machine learning from an in memory data set loaded to CAS to a trained machine learning model. This final model is a result of a pipeline search and automated feature engineering. The example extends beyond the trained model in demonstrating publishing the model to a scoring environment and real time scoring using MAS, SAS’ realtime scoring environment."
   ]
  },
  {
   "cell_type": "markdown",
   "metadata": {},
   "source": [
    "## Authentication -- optional step\n",
    "If you have registered a client (see the authentication use case), uncomment the code below to generate an access token."
   ]
  },
  {
   "cell_type": "code",
   "execution_count": null,
   "metadata": {},
   "outputs": [],
   "source": [
    "# import requests, json, base64\n",
    "# sasserver = \"\"\n",
    "# username = \"\"\n",
    "# password = \"\"\n",
    "# client_id = \"\"\n",
    "# client_secret = \"\"\n",
    "# url = sasserver + \"/SASLogon/oauth/token\"\n",
    "# data = {\n",
    "#     'grant_type': 'password',\n",
    "#     'username': username,\n",
    "#     'password': password\n",
    "# }\n",
    "# headers = {'Accept': 'application/json'}\n",
    "# response = requests.post(url, headers=headers, data=data, auth=(client_id, client_secret), verify=False).json()\n",
    "# access_token = response[\"access_token\"]\n",
    "# print(\"The access token is: \" + access_token)"
   ]
  },
  {
   "cell_type": "markdown",
   "metadata": {},
   "source": [
    "# Import modules, variable assignment\n",
    "The first step of the process is to import the required packages and assign variable values."
   ]
  },
  {
   "cell_type": "code",
   "execution_count": null,
   "metadata": {},
   "outputs": [],
   "source": [
    "import requests, json, uuid, time\n",
    "\n",
    "# Variables to assign\n",
    "sasserver            = ''\n",
    "datasetName          = 'hmeq'\n",
    "target               = 'BAD'\n",
    "publicUri            = '/dataTables/dataSources/cas~fs~cas-shared-default~fs~Public/tables/'\n",
    "access_token        = ''"
   ]
  },
  {
   "cell_type": "markdown",
   "metadata": {},
   "source": [
    "#### Create a unique project name by append uuid to data set name. "
   ]
  },
  {
   "cell_type": "code",
   "execution_count": null,
   "metadata": {},
   "outputs": [],
   "source": [
    "projectName = datasetName + \"-\" + str(uuid.uuid4())"
   ]
  },
  {
   "cell_type": "markdown",
   "metadata": {},
   "source": [
    "# Create an Automated Machine Learning Project\n",
    "Create MLPA project with a REST request. You can see project parameters printed below. Please note that there is no need to inspect these values in practice. This is for demonstration purposes only."
   ]
  },
  {
   "cell_type": "code",
   "execution_count": null,
   "metadata": {},
   "outputs": [],
   "source": [
    "tokenUri = \"/mlPipelineAutomation/projects\"\n",
    "headers = {\n",
    "    'Authorization': 'Bearer ' + access_token,\n",
    "    'Accept': \"application/vnd.sas.analytics.ml.pipeline.automation.project+json\",\n",
    "    'Content-Type': \"application/json\"\n",
    "}\n",
    "payload = {\n",
    "    'dataTableUri': publicUri + datasetName,\n",
    "    'type': 'predictive',\n",
    "    'name': projectName,\n",
    "    'description': 'Project generated for test',\n",
    "    'settings': {\n",
    "        'autoRun': True,\n",
    "        'maxModelingTime': 15\n",
    "    },\n",
    "    'analyticsProjectAttributes': {\n",
    "        'targetVariable': target\n",
    "    }\n",
    "}\n",
    "payload_data = json.dumps(payload, indent=4)\n",
    "response = requests.request(\"POST\", sasserver + tokenUri, data=payload_data, headers=headers, verify=False)\n",
    "response_txt = response.text\n",
    "\n",
    "if response.status_code >= 400:\n",
    "    print(\"Error in execute Rest Call with status_code: \" + str(response.status_code))\n",
    "    print(response_txt)\n",
    "\n",
    "mlpaProject = json.loads(response_txt)\n",
    "print(mlpaProject)\n",
    "\n",
    "mlpa_proj_id = mlpaProject[\"id\"]\n",
    "print(mlpa_proj_id)"
   ]
  },
  {
   "cell_type": "markdown",
   "metadata": {},
   "source": [
    "## Poll every 20 seconds until MLPA project state is completed\n",
    "**Note:** from time-to-time this step may hit a connection error. This does not mean the mlpa project is not still building / running.  \n",
    "Either re-run this step to pick up where the project is currently, or access SAS Model Studio for further details and progress."
   ]
  },
  {
   "cell_type": "code",
   "execution_count": null,
   "metadata": {},
   "outputs": [],
   "source": [
    "projectStateLink = list(filter(lambda x: x[\"rel\"] == \"state\", mlpaProject[\"links\"]))[0]\n",
    "headers = {\n",
    "    'Authorization': 'Bearer ' + access_token,\n",
    "    'Accept': projectStateLink[\"type\"]\n",
    "}\n",
    "\n",
    "attempts = 0\n",
    "maxAttempts = 60*60/20\n",
    "while True:\n",
    "    attempts = attempts + 1\n",
    "    projectState = requests.request(projectStateLink[\"method\"], sasserver + projectStateLink[\"uri\"], headers=headers).text\n",
    "    print(\"Polling project state: Attempt \" + str(attempts) + \", state is \" + projectState)\n",
    "\n",
    "    if projectState == \"completed\" or projectState == \"failed\" or attempts > maxAttempts:\n",
    "        break;\n",
    "\n",
    "    time.sleep(20)\n",
    "\n",
    "print(\"Final MLPA project state is \" + projectState + ', polled for approx ' + str(attempts*20/60) + ' minutes')"
   ]
  },
  {
   "cell_type": "markdown",
   "metadata": {},
   "source": [
    "### Optional step to display settings\n",
    "As an optional post processing step, you can print settings and attributes of newly created MLPA project."
   ]
  },
  {
   "cell_type": "code",
   "execution_count": null,
   "metadata": {},
   "outputs": [],
   "source": [
    "for key, val in mlpaProject['settings'].items():\n",
    "    print(key + '=' + str(val))\n",
    "for key, val in mlpaProject['analyticsProjectAttributes'].items():\n",
    "    print(key + '=' + str(val))"
   ]
  },
  {
   "cell_type": "markdown",
   "metadata": {},
   "source": [
    "# Get Champion Model\n",
    "Get the champion model i.e. the model that performs best based on the default performance criterion for this type of machine learning problem "
   ]
  },
  {
   "cell_type": "code",
   "execution_count": null,
   "metadata": {},
   "outputs": [],
   "source": [
    "\n",
    "tokenUri = \"/mlPipelineAutomation/projects/\" + mlpaProject[\"id\"] + \"/championModel\"\n",
    "headers = {\n",
    "    'authorization': 'Bearer ' + access_token,\n",
    "    'Content-type': \"application/vnd.sas.analytics.ml.pipeline.automation.project.champion.model+json\"\n",
    "}\n",
    "\n",
    "\n",
    "fullResponse=False\n",
    "response = requests.request('GET', sasserver + tokenUri, json=[], headers=headers)\n",
    "response_txt = response.text\n",
    "\n",
    "if response.status_code >= 400:\n",
    "    print(\"Error in executing Rest Call with status_code: \" + str(response.status_code))\n",
    "    print(response_txt)\n",
    "\n",
    "if fullResponse:\n",
    "    response,champModel =  response, json.loads(response_txt)\n",
    "else:\n",
    "    champModel = json.loads(response_txt)\n",
    "\n",
    "print('Champion model is ' + champModel['championModelName'])"
   ]
  },
  {
   "cell_type": "markdown",
   "metadata": {},
   "source": [
    "# Model Deployment and Scoring\n",
    "Publish champion model to MAS (maslocal destination). Please note that you should have licensed the Model Manager product to utilize this end point. Otherwise, you could score new data either as individual instances or batch in CAS."
   ]
  },
  {
   "cell_type": "code",
   "execution_count": null,
   "metadata": {},
   "outputs": [],
   "source": [
    "headers = {\n",
    "    'authorization': 'Bearer ' + access_token\n",
    "}\n",
    "\n",
    "publishChampModelResponse = requests.request(\n",
    "    \"PUT\",\n",
    "    sasserver + tokenUri + \"/\" + \"?action=publish&destinationName=maslocal\",\n",
    "    json=[],\n",
    "    headers=headers)\n",
    "\n",
    "print(publishChampModelResponse)\n",
    "\n",
    "if publishChampModelResponse.status_code == 200:\n",
    "    print(\"Publishing champion model to MAS (maslocal destination) successful\")\n",
    "else:\n",
    "    print(\"Error in publish champion model call, status_code: \" + str(publishChampModelResponse.status_code))\n",
    "    print(publishChampModelResponse.text)"
   ]
  },
  {
   "cell_type": "markdown",
   "metadata": {},
   "source": [
    "## Score new data\n",
    "Once the model deployment is complete, just test the deployment with new data as shown below."
   ]
  },
  {
   "cell_type": "code",
   "execution_count": null,
   "metadata": {},
   "outputs": [],
   "source": [
    "\n",
    "scoreDatalLink = list(filter(lambda x: x[\"rel\"] == 'scoreData', champModel[\"links\"]))[0]\n",
    "headers = {\n",
    "    'authorization': 'Bearer ' + access_token,\n",
    "    'Content-type': scoreDatalLink[\"type\"] + \"+json\"\n",
    "}\n",
    "scoreRow = {\n",
    "    \"scoreType\": \"Individual\",\n",
    "    \"destinationName\" : \"maslocal\",\n",
    "    \"inputs\": [\n",
    "        {\"name\": \"CLAGE\", \"value\": 300},\n",
    "        {\"name\": \"CLNO\", \"value\": 21},\n",
    "        {\"name\": \"DEBTINC\", \"value\": 24.5},\n",
    "        {\"name\": \"DELINQ\", \"value\": 0},\n",
    "        {\"name\": \"DEROG\", \"value\": 1},\n",
    "        {\"name\": \"JOB\", \"value\": \"Other\"},\n",
    "        {\"name\": \"REASON\", \"value\": \"DebtCon\"},\n",
    "        {\"name\": \"LOAN\", \"value\": 21500},\n",
    "        {\"name\": \"MORTDUE\", \"value\": 7806},\n",
    "        {\"name\": \"NINQ\", \"value\": 4},\n",
    "        {\"name\": \"VALUE\", \"value\": 95678},\n",
    "        {\"name\": \"YOJ\", \"value\": 4}\n",
    "    ]\n",
    "}\n",
    "\n",
    "response = requests.request(scoreDatalLink[\"method\"], sasserver + scoreDatalLink[\"uri\"], json=scoreRow, headers=headers)\n",
    "response_txt = response.text\n",
    "fullResponse=False\n",
    "\n",
    "if response.status_code >= 400:\n",
    "    print(\"Error in executing rest call with status_code: \" + str(response.status_code))\n",
    "    print(response_txt)\n",
    "\n",
    "if fullResponse:\n",
    "    fullResponse, scoredData =  response, json.loads(response_txt)\n",
    "else:\n",
    "    scoredData =  json.loads(response_txt)\n",
    "\n",
    "\n",
    "\n",
    "for itm in scoredData[\"outputs\"]:\n",
    "    if \"value\" in itm:\n",
    "        print(itm[\"name\"] + \": \" + str(itm[\"value\"]))"
   ]
  }
 ],
 "metadata": {
  "kernelspec": {
   "display_name": "Python 3",
   "language": "python",
   "name": "python3"
  },
  "language_info": {
   "codemirror_mode": {
    "name": "ipython",
    "version": 3
   },
   "file_extension": ".py",
   "mimetype": "text/x-python",
   "name": "python",
   "nbconvert_exporter": "python",
   "pygments_lexer": "ipython3",
   "version": "3.7.4"
  }
 },
 "nbformat": 4,
 "nbformat_minor": 4
}
