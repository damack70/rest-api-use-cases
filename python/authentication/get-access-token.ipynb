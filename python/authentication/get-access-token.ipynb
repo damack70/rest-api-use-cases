{
 "cells": [
  {
   "cell_type": "markdown",
   "metadata": {},
   "source": [
    "# Get Access Token\n",
    "If you have previously registered a client using the authentication use case, use this script to create an access token."
   ]
  },
  {
   "cell_type": "markdown",
   "metadata": {},
   "source": [
    "## Import modules, assign variables"
   ]
  },
  {
   "cell_type": "code",
   "execution_count": null,
   "metadata": {},
   "outputs": [],
   "source": [
    "import requests\n",
    "import json\n",
    "import base64\n",
    "\n",
    "# Global variables\n",
    "sasserver = \"\"\n",
    "username = \"\"\n",
    "password = \"\"\n",
    "client_id = \"\"\n",
    "client_secret = \"\""
   ]
  },
  {
   "cell_type": "markdown",
   "metadata": {},
   "source": [
    "## Get access token for calls"
   ]
  },
  {
   "cell_type": "code",
   "execution_count": null,
   "metadata": {},
   "outputs": [],
   "source": [
    "url = sasserver + \"/SASLogon/oauth/token\"\n",
    "\n",
    "data = {\n",
    "    'grant_type': 'password',\n",
    "    'username': username,\n",
    "    'password': password\n",
    "}\n",
    "\n",
    "headers = {'Accept': 'application/json'}\n",
    "\n",
    "response = requests.post(url, headers=headers, data=data, auth=(client_id, client_secret), verify=False).json()\n",
    "\n",
    "access_token = response[\"access_token\"]\n",
    "\n",
    "print(\"The access token is: \" + access_token)"
   ]
  },
  {
   "cell_type": "code",
   "execution_count": null,
   "metadata": {},
   "outputs": [],
   "source": []
  }
 ],
 "metadata": {
  "kernelspec": {
   "display_name": "Python 3",
   "language": "python",
   "name": "python3"
  },
  "language_info": {
   "codemirror_mode": {
    "name": "ipython",
    "version": 3
   },
   "file_extension": ".py",
   "mimetype": "text/x-python",
   "name": "python",
   "nbconvert_exporter": "python",
   "pygments_lexer": "ipython3",
   "version": "3.7.4"
  }
 },
 "nbformat": 4,
 "nbformat_minor": 5
}
