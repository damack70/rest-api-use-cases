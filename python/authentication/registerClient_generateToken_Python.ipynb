{
 "cells": [
  {
   "cell_type": "markdown",
   "id": "3c34511e-5693-44ab-bfa6-d0843172609c",
   "metadata": {},
   "source": [
    "# Register Client and Create Access Token Notebook\n",
    "- Find detailed information about client registration and access tokens in this blog post: [Authentication to SAS Viya: a couple of approaches](https://blogs.sas.com/content/sgf/2021/09/24/authentication-to-sas-viya/)\n",
    "- Use the client_id to create an access token you can use in the Jupyter environment or externally for API calls to SAS Viya.\n",
    "- You must add the following info to the script: client_id, client_secret, baseURL, and consul_token\n",
    "- Additional access token information is found at the end of this notebook.\n",
    "\n",
    "\n",
    "### Run the cells below and follow the resulting instructions."
   ]
  },
  {
   "cell_type": "markdown",
   "id": "f6c9a30c",
   "metadata": {},
   "source": [
    "# Get register access token"
   ]
  },
  {
   "cell_type": "code",
   "execution_count": null,
   "id": "cb30d382",
   "metadata": {},
   "outputs": [],
   "source": [
    "import requests\n",
    "import json\n",
    "import os\n",
    "import base64\n",
    "\n",
    "# set/create variables\n",
    "client_id=\"\"\n",
    "client_secret=\"\"\n",
    "baseURL = \"\" # sasserver.sas.com\n",
    "consul_token = \"\"\n",
    "\n",
    "# generate API call for register access token\n",
    "url = f\"https://{baseURL}/SASLogon/oauth/clients/consul?callback=false&serviceId={client_id}\"\n",
    "headers = {\n",
    "'X-Consul-Token': consul_token\n",
    "}\n",
    "\n",
    "# process the results\n",
    "response = requests.request(\"POST\", url, headers=headers, verify=False)\n",
    "\n",
    "register_access_token = json.loads(response.text)['access_token']\n",
    "print(json.dumps(response.json(), indent=4, sort_keys=True))"
   ]
  },
  {
   "cell_type": "markdown",
   "id": "37bcfb80",
   "metadata": {},
   "source": [
    "# Register the client"
   ]
  },
  {
   "cell_type": "code",
   "execution_count": null,
   "id": "e230abb6",
   "metadata": {},
   "outputs": [],
   "source": [
    "# create API call payload data\n",
    "payload='{\"client_id\": \"' + client_id +'\",\"client_secret\": \"'+ client_secret +'\",\"scope\": [\"openid\", \"*\"],\"authorized_grant_types\": [\"authorization_code\",\"refresh_token\"],\"redirect_uri\": \"urn:ietf:wg:oauth:2.0:oob\",\"access_token_validity\": \"43199\"}'\n",
    "\n",
    "# generate API call for register access token\n",
    "url = f\"https://{baseURL}/SASLogon/oauth/clients\"\n",
    "headers = {\n",
    "'Content-Type': 'application/json',\n",
    "'Authorization': \"Bearer \" + register_access_token\n",
    "}\n",
    "\n",
    "# process the results\n",
    "response = requests.request(\"POST\", url, headers=headers, data=payload, verify=False)\n",
    "print(json.dumps(response.json(), indent=4, sort_keys=True))"
   ]
  },
  {
   "cell_type": "markdown",
   "id": "90a31447",
   "metadata": {},
   "source": [
    "# Create access token"
   ]
  },
  {
   "cell_type": "code",
   "execution_count": null,
   "id": "791f2eac-f7c1-4c27-ac7c-27ff3f3052b7",
   "metadata": {},
   "outputs": [],
   "source": [
    "# create authorization url\n",
    "codeURL = \"https://\" + baseURL + \"/SASLogon/oauth/authorize?client_id=\" + client_id + \"&response_type=code\"\n",
    "\n",
    "# enccode client string\n",
    "client_string = client_id + \":\" + client_secret\n",
    "message_bytes = client_string.encode('ascii')\n",
    "base64_bytes = base64.b64encode(message_bytes)\n",
    "base64_message = base64_bytes.decode('ascii')\n",
    "\n",
    "# promt with instructions and entry for auth code\n",
    "print(f\"* Please visit the following site {codeURL}\")\n",
    "print(\"* If provided a login prompt, add your SAS login credentials\")\n",
    "print(\"* Once authenticated, you'll be redirected to an authoriztion screen, check all of the boxes that appear\")\n",
    "print(\"* This will result in a short string of numbers and letters such as `VAxVFVEnKr`; this is your authorization code; copy the code\")\n",
    "code = input(\"Please enter the authoriztion code you generated through the previous instructions, and then press Enter: \")\n",
    "\n",
    "# generate API call for access token\n",
    "url = f\"https://{baseURL}/SASLogon/oauth/token?grant_type=authorization_code&code={code}\"\n",
    "headers = {\n",
    "'Accept': 'application/json',\n",
    "'Content-Type': 'application/x-www-form-urlencoded',\n",
    "'Authorization': \"Basic \" + base64_message\n",
    "}\n",
    "\n",
    "# process the results\n",
    "response = requests.request(\"GET\", url, headers=headers, verify=False)\n",
    "access_token = json.loads(response.text)['access_token']\n",
    "print(json.dumps(response.json(), indent=4, sort_keys=True))\n",
    "\n",
    "# Create access_token.txt file \n",
    "directory = os.getcwd()\n",
    "with open(directory + '/access_token.txt', 'w') as f:\n",
    "    f.write(access_token)\n",
    "print('The access token was stored for you as ' + directory + '/access_token.txt')"
   ]
  },
  {
   "cell_type": "markdown",
   "id": "e810e3a2-b4ac-4ef1-ba84-8070f15c3054",
   "metadata": {},
   "source": [
    "## Notes on the access token\n",
    "- The access token has a 12 hour time-to-live (ttl) by default.\n",
    "- The authorization code is good for 30 minutes and is only good for a single use. \n",
    "- You can generate a new authorization code by reusing the authorization url.\n",
    "- The access_token is valid in this Notebook and is transferable to other notebooks and used for external API calls."
   ]
  },
  {
   "cell_type": "code",
   "execution_count": null,
   "id": "efff7301",
   "metadata": {},
   "outputs": [],
   "source": []
  }
 ],
 "metadata": {
  "kernelspec": {
   "display_name": "Python 3 (ipykernel)",
   "language": "python",
   "name": "python3"
  },
  "language_info": {
   "codemirror_mode": {
    "name": "ipython",
    "version": 3
   },
   "file_extension": ".py",
   "mimetype": "text/x-python",
   "name": "python",
   "nbconvert_exporter": "python",
   "pygments_lexer": "ipython3",
   "version": "3.9.7"
  }
 },
 "nbformat": 4,
 "nbformat_minor": 5
}
