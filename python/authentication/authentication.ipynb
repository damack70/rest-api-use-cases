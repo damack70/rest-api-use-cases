{
 "cells": [
  {
   "cell_type": "markdown",
   "metadata": {},
   "source": [
    "# Authentication\n",
    "The following scripts register a client (one-time process) and generate an access token for use cases in the repository.\n",
    "\n",
    "#### To find the value of the client_token (Consul token) variable:\n",
    "**In SAS Viya 3.5:** cat /opt/sas/viya/config/etc/SASSecurityCertificateFramework/tokens/consul/default/client.token  \n",
    "**In SAS Viya 202x.x:** kubectl -n sse get secret sas-consul-client -o jsonpath=\"{.data.CONSUL_TOKEN}\" | echo \"$(base64 -d)\""
   ]
  },
  {
   "cell_type": "markdown",
   "metadata": {},
   "source": [
    "## Import modules, assign variables"
   ]
  },
  {
   "cell_type": "code",
   "execution_count": null,
   "metadata": {},
   "outputs": [],
   "source": [
    "import requests\n",
    "import json\n",
    "import base64\n",
    "\n",
    "# Global variables\n",
    "sasserver = \"\"\n",
    "client_token = \"\"\n",
    "username = \"\"\n",
    "password = \"\"\n",
    "client_id = \"\"\n",
    "client_secret = \"\""
   ]
  },
  {
   "cell_type": "markdown",
   "metadata": {},
   "source": [
    "## Get Client Token"
   ]
  },
  {
   "cell_type": "code",
   "execution_count": null,
   "metadata": {},
   "outputs": [],
   "source": [
    "url = sasserver+\"/SASLogon/oauth/clients/consul?callback=false&serviceId=\" + client_id\n",
    "\n",
    "payload = {}\n",
    "headers = {\n",
    "  \"X-Consul-Token\": client_token\n",
    "}\n",
    "\n",
    "response = requests.request(\"POST\", url, headers=headers, data = payload, verify=False).json()\n",
    "\n",
    "client_access_token = response[\"access_token\"]\n",
    "\n",
    "print(client_access_token)"
   ]
  },
  {
   "cell_type": "markdown",
   "metadata": {},
   "source": [
    "## Register Client"
   ]
  },
  {
   "cell_type": "code",
   "execution_count": null,
   "metadata": {},
   "outputs": [],
   "source": [
    "url = sasserver+\"/SASLogon/oauth/clients\"\n",
    "\n",
    "payload = {\"client_id\": client_id, \n",
    "           \"client_secret\": client_secret,\n",
    "           \"scope\": [\"*\"], \n",
    "           \"resource_ids\": \"none\", \n",
    "           \"authorities\": [\"uaa.none\"], \n",
    "           \"authorized_grant_types\": [\"password\"],\n",
    "           \"access_token_validity\": 36000}\n",
    "\n",
    "headers = {\n",
    "  'Content-Type': 'application/json',\n",
    "  'Authorization': 'Bearer ' + client_access_token\n",
    "}\n",
    "\n",
    "response = requests.request(\"POST\", url, headers = headers, json = payload, verify=False).json()\n",
    "\n",
    "print(response)"
   ]
  },
  {
   "cell_type": "markdown",
   "metadata": {},
   "source": [
    "## Get access token for further calls"
   ]
  },
  {
   "cell_type": "code",
   "execution_count": null,
   "metadata": {},
   "outputs": [],
   "source": [
    "url = sasserver + \"/SASLogon/oauth/token\"\n",
    "\n",
    "data = {\n",
    "    'grant_type': 'password',\n",
    "    'username': username,\n",
    "    'password': password\n",
    "}\n",
    "\n",
    "headers = {'Accept': 'application/json'}\n",
    "\n",
    "response = requests.post(url, headers=headers, data=data, auth=(client_id, client_secret), verify=False).json()\n",
    "\n",
    "access_token = response[\"access_token\"]\n",
    "\n",
    "print(\"The access token is: \" + access_token)"
   ]
  },
  {
   "cell_type": "code",
   "execution_count": null,
   "metadata": {},
   "outputs": [],
   "source": []
  }
 ],
 "metadata": {
  "kernelspec": {
   "display_name": "Python 3",
   "language": "python",
   "name": "python3"
  },
  "language_info": {
   "codemirror_mode": {
    "name": "ipython",
    "version": 3
   },
   "file_extension": ".py",
   "mimetype": "text/x-python",
   "name": "python",
   "nbconvert_exporter": "python",
   "pygments_lexer": "ipython3",
   "version": "3.7.4"
  }
 },
 "nbformat": 4,
 "nbformat_minor": 5
}
