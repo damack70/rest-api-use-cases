{
 "cells": [
  {
   "cell_type": "markdown",
   "id": "049444ff",
   "metadata": {},
   "source": [
    "# Generate a fresh access token from a refresh token\n",
    "- This script assumes you have registered a client and generated an access and refresh token as outlined in registerClient_generateToken_Hackathon_2023.ipynb\n",
    "- Access tokens are good for 12 hours\n",
    "- Corresponding refresh tokens are good for 90 days\n",
    "- Use these scripts to generate new access tokens for the SAS Hackathon"
   ]
  },
  {
   "cell_type": "markdown",
   "id": "cbba6246",
   "metadata": {},
   "source": [
    "# Import packages and create variables"
   ]
  },
  {
   "cell_type": "code",
   "execution_count": null,
   "id": "5571ec53",
   "metadata": {},
   "outputs": [],
   "source": [
    "import requests\n",
    "import json\n",
    "import os\n",
    "import base64\n",
    "\n",
    "# PLEASE SET OR CREATE the following variables BEFORE YOU EXECUTE THE FOLLOWING CELLS\n",
    "# The client_id and client_secret values are up to you\n",
    "# The client is either an application or acts on behalf of a user when making API calls\n",
    "client_id=\"\"     # api.client\n",
    "client_secret=\"\" # api.secret\n",
    "baseURL = \"\"     # https://sasserver.sas.com\n",
    "\n",
    "# enccode client string\n",
    "client_string = client_id + \":\" + client_secret\n",
    "message_bytes = client_string.encode('ascii')\n",
    "base64_bytes = base64.b64encode(message_bytes)\n",
    "base64_message = base64_bytes.decode('ascii')\n",
    "\n",
    "# copy resfresh token from txtfile\n",
    "directory = os.getcwd()\n",
    "file = open(directory + \"/refresh_token.txt\")\n",
    "# read the file as a list\n",
    "refresh_token = file.readlines()\n",
    "# close the file\n",
    "file.close()\n",
    "print(refresh_token)\n",
    "type(refresh_token)"
   ]
  },
  {
   "cell_type": "markdown",
   "id": "0994a601",
   "metadata": {},
   "source": [
    "# Use the refresh token to generate a new access token"
   ]
  },
  {
   "cell_type": "code",
   "execution_count": null,
   "id": "3cdd89f0",
   "metadata": {},
   "outputs": [],
   "source": [
    "url = f\"{baseURL}/SASLogon/oauth/token#refresh_token\"\n",
    "\n",
    "payload = \"grant_type=refresh_token&refresh_token=\" + ' '.join(refresh_token)\n",
    "headers = {\n",
    "  'Content-Type': 'application/x-www-form-urlencoded',\n",
    "  'Accept': 'application/json',\n",
    "  'Authorization': \"Basic \" + base64_message\n",
    "}\n",
    "\n",
    "response = requests.request(\"POST\", url, headers=headers, data=payload, verify=False)\n",
    "\n",
    "print(response.text)\n",
    "# process the results\n",
    "response = requests.request(\"POST\", url, headers=headers, data=payload, verify=False)\n",
    "access_token = json.loads(response.text)['access_token']\n",
    "print(json.dumps(response.json(), indent=4, sort_keys=True))\n",
    "\n",
    "# Create access_token.txt file \n",
    "directory = os.getcwd()\n",
    "with open(directory + '/access_token.txt', 'w') as f:\n",
    "    f.write(access_token)\n",
    "print('The access token was stored for you as ' + directory + '/access_token.txt')"
   ]
  },
  {
   "cell_type": "markdown",
   "id": "9124650e",
   "metadata": {},
   "source": [
    "# Test connection to SAS Viya via SWAT"
   ]
  },
  {
   "cell_type": "code",
   "execution_count": null,
   "id": "2dd9da85",
   "metadata": {},
   "outputs": [],
   "source": [
    "import swat\n",
    "conn = swat.CAS(f\"{baseURL}/cas-shared-default-http\", username=None, password=access_token)"
   ]
  },
  {
   "cell_type": "code",
   "execution_count": null,
   "id": "1398d3f0",
   "metadata": {},
   "outputs": [],
   "source": [
    "conn"
   ]
  }
 ],
 "metadata": {
  "kernelspec": {
   "display_name": "Python 3 (ipykernel)",
   "language": "python",
   "name": "python3"
  },
  "language_info": {
   "codemirror_mode": {
    "name": "ipython",
    "version": 3
   },
   "file_extension": ".py",
   "mimetype": "text/x-python",
   "name": "python",
   "nbconvert_exporter": "python",
   "pygments_lexer": "ipython3",
   "version": "3.9.12"
  }
 },
 "nbformat": 4,
 "nbformat_minor": 5
}
